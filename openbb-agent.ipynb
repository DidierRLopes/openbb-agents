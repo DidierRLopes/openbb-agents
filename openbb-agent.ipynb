{
 "cells": [
  {
   "cell_type": "code",
   "execution_count": 1,
   "id": "aa68315b-3d2b-47ad-9b40-eb81c3a4d79c",
   "metadata": {},
   "outputs": [],
   "source": [
    "import os\n",
    "from typing import List, Optional\n",
    "from pydantic import BaseModel, Field\n",
    "import instructor\n",
    "import openai\n",
    "\n",
    "from langchain.tools import tool\n",
    "from langchain.agents import AgentExecutor, Tool\n",
    "from langchain.vectorstores import FAISS\n",
    "from langchain.vectorstores import Chroma\n",
    "from langchain.embeddings import OpenAIEmbeddings\n",
    "from langchain.schema import Document\n",
    "from langchain.chat_models import ChatOpenAI\n",
    "from langchain.prompts import ChatPromptTemplate\n",
    "from langchain.schema.runnable import RunnablePassthrough\n",
    "from langchain.tools.render import format_tool_to_openai_function\n",
    "from langchain.agents.format_scratchpad import format_to_openai_functions\n",
    "from langchain.agents import AgentExecutor\n",
    "from langchain.prompts import MessagesPlaceholder\n",
    "from langchain.memory import ConversationBufferMemory\n",
    "from langchain.agents.output_parsers import OpenAIFunctionsAgentOutputParser\n",
    "from langchain.schema.messages import HumanMessage\n",
    "from langchain.schema.agent import AgentFinish\n",
    "from langchain.embeddings import SentenceTransformerEmbeddings\n",
    "\n",
    "from openbb import obb\n",
    "from openbb_provider import standard_models\n",
    "\n",
    "# Set up OpenAI API key\n",
    "os.environ[\"OPENAI_API_KEY\"] = \"YOUR_API_KEY\"\n",
    "openai.api_key = \"YOUR_API_KEY\""
   ]
  },
  {
   "cell_type": "code",
   "execution_count": 2,
   "id": "b6d532de-6bda-421e-b2cf-88d9854fa65b",
   "metadata": {},
   "outputs": [],
   "source": [
    "%%capture\n",
    "pat = \"YOUR_API_KEY\"  # get it at https://my.openbb.co\n",
    "obb.account.login(pat=pat)"
   ]
  },
  {
   "cell_type": "markdown",
   "id": "659391a4-391d-4f4a-b477-6cc055392f3e",
   "metadata": {},
   "source": [
    "# Transform OpenBB commands into OpenAI tools\n",
    "- Currently need to do: to_df().to_dict() because of a bug at the core that will be fixed\n",
    "- Ideally, OpenBB provides this list out-of-the-box"
   ]
  },
  {
   "cell_type": "markdown",
   "id": "41a11334-74dd-473f-9f60-0f4ed17daf41",
   "metadata": {},
   "source": [
    "### This creates the pydantic schema from scratch"
   ]
  },
  {
   "cell_type": "code",
   "execution_count": 3,
   "id": "8c434005-b8de-4153-b427-686ce4cab7cd",
   "metadata": {},
   "outputs": [],
   "source": [
    "# Cannot define InputSchema because langchain 2.4.2 doesn't support pydantic > 2, rip\n",
    "# ValidationError: 1 validation error for StructuredTool\n",
    "# args_schema\n",
    "#  subclass of BaseModel expected (type=type_error.subclass; expected_class=BaseModel)\n",
    "\n",
    "class InputSchema(BaseModel):\n",
    "    symbol: str = Field(..., description=\"Symbol to get data for\")\n",
    "    provider: Optional[str] = Field(description=\"The provider to use for the query\", default=None)\n",
    "\n",
    "@tool#(args_schema=InputSchema)\n",
    "def get_peers_associated_with_symbol(\n",
    "    symbol: str,\n",
    "    provider: str = None,\n",
    ") -> dict:\n",
    "    \"\"\"Get peers associated with a symbol\"\"\"\n",
    "\n",
    "    return obb.stocks.ca.peers(symbol=symbol, provider=provider).to_df().to_dict()\n",
    "\n",
    "\n",
    "class InputSchema(BaseModel):\n",
    "    symbol: str = Field(..., description=\"Symbol to get data for\")\n",
    "    provider: Optional[str] = Field(description=\"The provider to use\", default=None)\n",
    "\n",
    "@tool#(args_schema=InputSchema)\n",
    "def get_generic_info_from_symbol(\n",
    "    symbol: str,\n",
    "    provider: str = None,\n",
    ") -> dict:\n",
    "    \"\"\"Get generic information from a symbol including market_cap, volume, eps\"\"\"\n",
    "\n",
    "    return obb.stocks.quote(symbol=symbol, provider=provider).to_dict()\n",
    "\n",
    "\n",
    "class InputSchema(BaseModel):\n",
    "    symbol: str = Field(..., description=\"Symbol to get data for\")\n",
    "    provider: Optional[str] = Field(description=\"The provider to use\", default=None)\n",
    "\n",
    "@tool#(args_schema=InputSchema)\n",
    "def get_price_target_with_analyst(\n",
    "    symbol: str,\n",
    "    provider: str = None,\n",
    ") -> dict:\n",
    "    \"\"\"Get price target for symbol of interest, date of rating and rating value\"\"\"\n",
    "\n",
    "    return obb.stocks.fa.pta(symbol=symbol, provider=provider).to_df().head().to_dict()\n",
    "\n",
    "# vars(get_generic_info_from_symbol)"
   ]
  },
  {
   "cell_type": "markdown",
   "id": "4172f572-8e2e-4124-a825-d6a44c5c2085",
   "metadata": {},
   "source": [
    "### This relies on OpenBB pydantic schema"
   ]
  },
  {
   "cell_type": "code",
   "execution_count": 4,
   "id": "8a103f77-51ff-4d9b-99b3-961ce1e52538",
   "metadata": {},
   "outputs": [],
   "source": [
    "@tool#(args_schema=standard_models.stock_peers.StockPeersQueryParams)\n",
    "def get_peers_associated_with_symbol(\n",
    "    symbol: str,\n",
    "    provider: str = None,\n",
    ") -> dict:\n",
    "    \"\"\"Get peers associated with a symbol\"\"\"\n",
    "\n",
    "    return obb.stocks.ca.peers(symbol=symbol, provider=provider).to_df().to_dict()\n",
    "\n",
    "# The current pydantic model has a bad description which interferes with prompt length, fix for now\n",
    "standard_models.stock_quote.StockQuoteQueryParams.model_json_schema()['properties'][\"symbol\"][\"description\"] = \"Symbol to get data from\"\n",
    "\n",
    "@tool#(args_schema=standard_models.stock_quote.StockQuoteQueryParams)\n",
    "def get_generic_info_from_symbol(\n",
    "    symbol: str,\n",
    "    provider: str = None,\n",
    ") -> dict:\n",
    "    \"\"\"Get generic information from a symbol including market_cap, volume, eps\"\"\"\n",
    "\n",
    "    return obb.stocks.quote(symbol=symbol, provider=provider).to_df().to_dict()\n",
    "\n",
    "\n",
    "@tool#(args_schema=standard_models.price_target.PriceTargetQueryParams)\n",
    "def get_price_target_with_analyst(\n",
    "    symbol: str,\n",
    "    provider: str = None,\n",
    ") -> dict:\n",
    "    \"\"\"Get price target for one single symbol of interest, date of rating and rating value\"\"\"\n",
    "\n",
    "    # Here we need to get the head of last 5 values, otherwise we go above limit of tokens per context\n",
    "    return obb.stocks.fa.pta(symbol=symbol, provider=provider).to_df().head().to_dict()\n",
    "\n",
    "# vars(get_generic_info_from_symbol)"
   ]
  },
  {
   "cell_type": "markdown",
   "id": "946093a2-5c48-4086-a1aa-9283effbd95c",
   "metadata": {},
   "source": [
    "### Check that the pydantic models are well defined "
   ]
  },
  {
   "cell_type": "code",
   "execution_count": 5,
   "id": "fb61c69c-7889-4457-9943-0be658bc92d0",
   "metadata": {},
   "outputs": [
    {
     "data": {
      "text/plain": [
       "{'symbol': {'default': None,\n",
       "  'description': 'Comma separated list of symbols.',\n",
       "  'title': 'Symbol',\n",
       "  'type': 'string'}}"
      ]
     },
     "execution_count": 5,
     "metadata": {},
     "output_type": "execute_result"
    }
   ],
   "source": [
    "standard_models.stock_quote.StockQuoteQueryParams.model_json_schema()['properties']"
   ]
  },
  {
   "cell_type": "code",
   "execution_count": 6,
   "id": "c4d7ed12-e4a2-4474-b30f-5462446f4bc9",
   "metadata": {},
   "outputs": [
    {
     "data": {
      "text/plain": [
       "{'symbol': {'description': 'Symbol to get data for',\n",
       "  'title': 'Symbol',\n",
       "  'type': 'string'},\n",
       " 'provider': {'anyOf': [{'type': 'string'}, {'type': 'null'}],\n",
       "  'default': None,\n",
       "  'description': 'The provider to use',\n",
       "  'title': 'Provider'}}"
      ]
     },
     "execution_count": 6,
     "metadata": {},
     "output_type": "execute_result"
    }
   ],
   "source": [
    "class InputSchema(BaseModel):\n",
    "    symbol: str = Field(..., description=\"Symbol to get data for\")\n",
    "    provider: Optional[str] = Field(description=\"The provider to use\", default=None)\n",
    "    \n",
    "InputSchema.model_json_schema()['properties']"
   ]
  },
  {
   "cell_type": "markdown",
   "id": "1b2952d2-6f56-4b7a-9f5f-01cae4cd7e51",
   "metadata": {},
   "source": [
    "## List of available tools"
   ]
  },
  {
   "cell_type": "code",
   "execution_count": 7,
   "id": "40b39615-c6c4-4da1-8a33-79b968ab2f57",
   "metadata": {},
   "outputs": [],
   "source": [
    "# Ideally OpenBB provides this list by default\n",
    "tools = [\n",
    "    get_peers_associated_with_symbol,\n",
    "    get_generic_info_from_symbol,\n",
    "    get_price_target_with_analyst\n",
    "]"
   ]
  },
  {
   "cell_type": "code",
   "execution_count": 8,
   "id": "1d8a3da8-6242-4983-8c2d-05c4be489f68",
   "metadata": {},
   "outputs": [],
   "source": [
    "# Let us create fake tools to show that this can scale well\n",
    "def fake_func(inp: str) -> str:\n",
    "    return \"foo\"\n",
    "    \n",
    "fake_tools = [\n",
    "    Tool(\n",
    "        name=f\"foo-{i}\",\n",
    "        func=fake_func,\n",
    "        description=f\"a silly function that you can use to get more information about the number {i}\",\n",
    "    )\n",
    "    for i in range(99)\n",
    "]\n",
    "\n",
    "tools += fake_tools"
   ]
  },
  {
   "cell_type": "markdown",
   "id": "dd46bb95-8ed7-47dc-840c-61832e7d90aa",
   "metadata": {},
   "source": [
    "# Query to be used by analyst"
   ]
  },
  {
   "cell_type": "code",
   "execution_count": 9,
   "id": "ceb50879-9c82-4a8e-9ed4-4ba3e90d1fab",
   "metadata": {},
   "outputs": [],
   "source": [
    "query = \"\"\"\n",
    "    Check what are TSLA peers. From those, check which one has the highest market cap.\n",
    "    Then, on the ticker that has the highest market cap get the most recent rating from an analyst.\n",
    "    And tell me who was the analyst and what date was it that the rating was done.\n",
    "\"\"\""
   ]
  },
  {
   "cell_type": "markdown",
   "id": "8a4fb6f0-6c31-4852-a6ae-d8dfbd474b55",
   "metadata": {},
   "source": [
    "# Based on query select list of tools to be used by OpenAI"
   ]
  },
  {
   "cell_type": "markdown",
   "id": "ce008a85-bf0e-4c18-a985-c9328c043843",
   "metadata": {},
   "source": [
    "### Create a vector of embeddings for the descriptions of each tool (including fake ones)"
   ]
  },
  {
   "cell_type": "code",
   "execution_count": 10,
   "id": "7388507c-6729-4ecf-a346-e5e971dee660",
   "metadata": {},
   "outputs": [
    {
     "name": "stderr",
     "output_type": "stream",
     "text": [
      "/Users/didierlopes/miniconda3/lib/python3.11/site-packages/tqdm/auto.py:21: TqdmWarning: IProgress not found. Please update jupyter and ipywidgets. See https://ipywidgets.readthedocs.io/en/stable/user_install.html\n",
      "  from .autonotebook import tqdm as notebook_tqdm\n",
      "Batches: 100%|████████████████████████████████████████████████████████████████████████████████████████████████████████████████████████████| 4/4 [00:01<00:00,  3.52it/s]\n"
     ]
    }
   ],
   "source": [
    "# Create a list of documents made of function descriptions\n",
    "docs = [\n",
    "    Document(page_content=t.description, metadata={\"index\": i})\n",
    "    for i, t in enumerate(tools)\n",
    "]\n",
    "\n",
    "# These embeddings are much better for semantic search\n",
    "embeddings = SentenceTransformerEmbeddings(model_name=\"all-MiniLM-L6-v2\")\n",
    "\n",
    "# Create VectorStore from documents and embeddings\n",
    "# could also have used Pinecode, Chroma or Weaviate\n",
    "vector_store = FAISS.from_documents(\n",
    "    docs,\n",
    "    embeddings # Could also use: OpenAIEmbeddings()\n",
    ")\n",
    "\n",
    "# We can assume there are not more than 2 simple functions necessary for a single task from an analyst workflow\n",
    "# note that a more complex workflow will be narrowed down into simpler tasks\n",
    "retriever = vector_store.as_retriever(\n",
    "    search_type=\"similarity\",\n",
    ")"
   ]
  },
  {
   "cell_type": "code",
   "execution_count": 11,
   "id": "6d40995b-8ea8-4392-8c58-c5cf78f7bfa0",
   "metadata": {},
   "outputs": [],
   "source": [
    "# Define a function that returns the most relevant tools based on a user prompt\n",
    "def get_tools(smaller_query):\n",
    "\n",
    "    # Retrieve documents relevant to a query\n",
    "    docs = retriever.get_relevant_documents(smaller_query);\n",
    "\n",
    "    # Return the list of tools that are the most relevant\n",
    "    return [tools[d.metadata[\"index\"]] for d in docs]    "
   ]
  },
  {
   "cell_type": "markdown",
   "id": "5e0e8a9c-66ca-45be-a912-7a3bd436f816",
   "metadata": {},
   "source": [
    "### Simplify query in multiple simpler tasks\n",
    "\n",
    "Since a query may contain multiple tasks, the tool retrieval function wasn't leading to the best results. So we simplify to conquer."
   ]
  },
  {
   "cell_type": "code",
   "execution_count": 12,
   "id": "36217ce7-447e-4fc2-b80c-93537bf03344",
   "metadata": {},
   "outputs": [],
   "source": [
    "# Define pydantic model to be output from OpenAI when simplifying a workflow into simpler tasks\n",
    "class Task(BaseModel):\n",
    "    \"\"\"Simple task to be performed\"\"\"\n",
    "    description: str = Field(..., description=\"Description of the task to be achieved\")\n",
    "\n",
    "class TaskList(BaseModel):\n",
    "    \"\"\"List of simple tasks to be performed\"\"\"\n",
    "    tasks: List[Task]"
   ]
  },
  {
   "cell_type": "code",
   "execution_count": 13,
   "id": "12c2f333-aa2e-46d1-888b-2de49b943767",
   "metadata": {},
   "outputs": [
    {
     "name": "stdout",
     "output_type": "stream",
     "text": [
      "The current query can be decomposed into:\n",
      "- Check what are TSLA peers\n",
      "- From the peers, check which one has the highest market cap\n",
      "- On the ticker with the highest market cap, get the most recent rating from an analyst\n",
      "- Retrieve the analyst and the date of the rating\n",
      "- Provide the name of the analyst and the date of the rating\n"
     ]
    }
   ],
   "source": [
    "instructor.patch()\n",
    "\n",
    "completion = openai.ChatCompletion.create(\n",
    "    model=\"gpt-3.5-turbo-0613\",\n",
    "    response_model=TaskList,\n",
    "    max_retries=2,\n",
    "    messages=[\n",
    "        {\n",
    "            \"role\": \"system\", \n",
    "             \"content\": \"You are extremely good at reasoning and creating a list of tasks. Add the context behind each task, but keep it simple.\"\n",
    "        },\n",
    "        {\n",
    "            \"role\": \"user\",\n",
    "            \"content\": f\"I want you to decompose this query into a list of tasks to achieve: {query}\"\n",
    "        },\n",
    "    ],\n",
    ")\n",
    "\n",
    "# Show what tasks need to be done for the query selected\n",
    "print(\"The current query can be decomposed into:\")\n",
    "for t in completion.tasks:\n",
    "    print(f\"- {t.description}\")\n",
    "\n",
    "simpler_tasks = [t.description for t in completion.tasks]"
   ]
  },
  {
   "cell_type": "markdown",
   "id": "2e3cc0af-382c-4145-9292-ecf648e3b60d",
   "metadata": {},
   "source": [
    "### Grab a function for each of the simpler tasks"
   ]
  },
  {
   "cell_type": "code",
   "execution_count": 14,
   "id": "48701903-0c6b-4549-8896-a5f6e9188924",
   "metadata": {},
   "outputs": [
    {
     "name": "stdout",
     "output_type": "stream",
     "text": [
      "Task: Check what are TSLA peers\n"
     ]
    },
    {
     "name": "stderr",
     "output_type": "stream",
     "text": [
      "Batches: 100%|████████████████████████████████████████████████████████████████████████████████████████████████████████████████████████████| 1/1 [00:00<00:00, 74.66it/s]\n"
     ]
    },
    {
     "name": "stdout",
     "output_type": "stream",
     "text": [
      "Tool to use: get_peers_associated_with_symbol\n",
      "Tool to use: get_price_target_with_analyst\n",
      "Tool to use: foo-22\n",
      "Tool to use: get_generic_info_from_symbol\n",
      "\n",
      "\n",
      "Task: From the peers, check which one has the highest market cap\n"
     ]
    },
    {
     "name": "stderr",
     "output_type": "stream",
     "text": [
      "Batches: 100%|████████████████████████████████████████████████████████████████████████████████████████████████████████████████████████████| 1/1 [00:00<00:00, 60.23it/s]\n"
     ]
    },
    {
     "name": "stdout",
     "output_type": "stream",
     "text": [
      "Tool to use: get_generic_info_from_symbol\n",
      "Tool to use: get_price_target_with_analyst\n",
      "Tool to use: get_peers_associated_with_symbol\n",
      "Tool to use: foo-1\n",
      "\n",
      "\n",
      "Task: On the ticker with the highest market cap, get the most recent rating from an analyst\n"
     ]
    },
    {
     "name": "stderr",
     "output_type": "stream",
     "text": [
      "Batches: 100%|████████████████████████████████████████████████████████████████████████████████████████████████████████████████████████████| 1/1 [00:00<00:00, 59.45it/s]\n"
     ]
    },
    {
     "name": "stdout",
     "output_type": "stream",
     "text": [
      "Tool to use: get_price_target_with_analyst\n",
      "Tool to use: foo-15\n",
      "Tool to use: foo-75\n",
      "Tool to use: foo-30\n",
      "\n",
      "\n",
      "Task: Retrieve the analyst and the date of the rating\n"
     ]
    },
    {
     "name": "stderr",
     "output_type": "stream",
     "text": [
      "Batches: 100%|████████████████████████████████████████████████████████████████████████████████████████████████████████████████████████████| 1/1 [00:00<00:00, 80.06it/s]\n"
     ]
    },
    {
     "name": "stdout",
     "output_type": "stream",
     "text": [
      "Tool to use: get_price_target_with_analyst\n",
      "Tool to use: foo-16\n",
      "Tool to use: foo-70\n",
      "Tool to use: foo-76\n",
      "\n",
      "\n",
      "Task: Provide the name of the analyst and the date of the rating\n"
     ]
    },
    {
     "name": "stderr",
     "output_type": "stream",
     "text": [
      "Batches: 100%|████████████████████████████████████████████████████████████████████████████████████████████████████████████████████████████| 1/1 [00:00<00:00, 77.20it/s]"
     ]
    },
    {
     "name": "stdout",
     "output_type": "stream",
     "text": [
      "Tool to use: get_price_target_with_analyst\n",
      "Tool to use: foo-16\n",
      "Tool to use: foo-18\n",
      "Tool to use: foo-70\n",
      "\n",
      "\n"
     ]
    },
    {
     "name": "stderr",
     "output_type": "stream",
     "text": [
      "\n"
     ]
    }
   ],
   "source": [
    "relevant_tools = list()\n",
    "for t in simpler_tasks:\n",
    "    print(f\"Task: {t}\")\n",
    "    tools_for_task = get_tools(t)\n",
    "    for tool_for_task in tools_for_task:\n",
    "        print(f\"Tool to use: {tool_for_task.name}\")\n",
    "    relevant_tools.append(tools_for_task[0])\n",
    "    print(\"\\n\")"
   ]
  },
  {
   "cell_type": "code",
   "execution_count": 15,
   "id": "174391d4-6e43-47c3-8181-40c3c105c9b3",
   "metadata": {},
   "outputs": [],
   "source": [
    "# Remove duplicates functions\n",
    "relevant_tools = [x for i, x in enumerate(relevant_tools) if i == relevant_tools.index(x)]"
   ]
  },
  {
   "cell_type": "markdown",
   "id": "4c011cae-3ca6-4592-bf20-a6f1d4fe13e1",
   "metadata": {},
   "source": [
    "# OpenBB Agent"
   ]
  },
  {
   "cell_type": "code",
   "execution_count": 16,
   "id": "eaae33b7-9bc5-4427-8073-f0ccc301a4fe",
   "metadata": {},
   "outputs": [
    {
     "name": "stdout",
     "output_type": "stream",
     "text": [
      "\n",
      "\n",
      "\u001b[1m> Entering new AgentExecutor chain...\u001b[0m\n",
      "\u001b[32;1m\u001b[1;3m\n",
      "Invoking: `get_peers_associated_with_symbol` with `{'symbol': 'TSLA'}`\n",
      "\n",
      "\n",
      "\u001b[0m\u001b[36;1m\u001b[1;3m{0: {0: 'symbol', 1: 'peers_list'}, 1: {0: 'TSLA', 1: ['XPEV', 'LI', 'RIVN', 'LCID', 'GM', 'NIO', 'F', 'FSR', 'MULN']}}\u001b[0m\u001b[32;1m\u001b[1;3m\n",
      "Invoking: `get_generic_info_from_symbol` with `{'symbol': 'XPEV'}`\n",
      "\n",
      "\n",
      "\u001b[0m\u001b[33;1m\u001b[1;3m{'day_low': {Timestamp('2023-10-17 20:00:02+0000', tz='UTC'): 15.1}, 'day_high': {Timestamp('2023-10-17 20:00:02+0000', tz='UTC'): 15.665}, 'symbol': {Timestamp('2023-10-17 20:00:02+0000', tz='UTC'): 'XPEV'}, 'name': {Timestamp('2023-10-17 20:00:02+0000', tz='UTC'): 'XPeng Inc.'}, 'price': {Timestamp('2023-10-17 20:00:02+0000', tz='UTC'): 15.38}, 'changes_percentage': {Timestamp('2023-10-17 20:00:02+0000', tz='UTC'): 0.1954}, 'change': {Timestamp('2023-10-17 20:00:02+0000', tz='UTC'): 0.03}, 'year_high': {Timestamp('2023-10-17 20:00:02+0000', tz='UTC'): 23.62}, 'year_low': {Timestamp('2023-10-17 20:00:02+0000', tz='UTC'): 6.18}, 'market_cap': {Timestamp('2023-10-17 20:00:02+0000', tz='UTC'): 13327554011.0}, 'price_avg50': {Timestamp('2023-10-17 20:00:02+0000', tz='UTC'): 17.2396}, 'price_avg200': {Timestamp('2023-10-17 20:00:02+0000', tz='UTC'): 12}, 'volume': {Timestamp('2023-10-17 20:00:02+0000', tz='UTC'): 7294189}, 'avg_volume': {Timestamp('2023-10-17 20:00:02+0000', tz='UTC'): 18717845}, 'exchange': {Timestamp('2023-10-17 20:00:02+0000', tz='UTC'): 'NYSE'}, 'open': {Timestamp('2023-10-17 20:00:02+0000', tz='UTC'): 15.16}, 'previous_close': {Timestamp('2023-10-17 20:00:02+0000', tz='UTC'): 15.35}, 'eps': {Timestamp('2023-10-17 20:00:02+0000', tz='UTC'): -1.49}, 'pe': {Timestamp('2023-10-17 20:00:02+0000', tz='UTC'): -10.32}, 'earnings_announcement': {Timestamp('2023-10-17 20:00:02+0000', tz='UTC'): '2023-11-28T00:00:00.000+0000'}, 'shares_outstanding': {Timestamp('2023-10-17 20:00:02+0000', tz='UTC'): 866550976}}\u001b[0m\u001b[32;1m\u001b[1;3m\n",
      "Invoking: `get_generic_info_from_symbol` with `{'symbol': 'LI'}`\n",
      "\n",
      "\n",
      "\u001b[0m\u001b[33;1m\u001b[1;3m{'day_low': {Timestamp('2023-10-17 20:00:02+0000', tz='UTC'): 33.1}, 'day_high': {Timestamp('2023-10-17 20:00:02+0000', tz='UTC'): 34.025}, 'symbol': {Timestamp('2023-10-17 20:00:02+0000', tz='UTC'): 'LI'}, 'name': {Timestamp('2023-10-17 20:00:02+0000', tz='UTC'): 'Li Auto Inc.'}, 'price': {Timestamp('2023-10-17 20:00:02+0000', tz='UTC'): 33.4}, 'changes_percentage': {Timestamp('2023-10-17 20:00:02+0000', tz='UTC'): -0.358}, 'change': {Timestamp('2023-10-17 20:00:02+0000', tz='UTC'): -0.12}, 'year_high': {Timestamp('2023-10-17 20:00:02+0000', tz='UTC'): 47.33}, 'year_low': {Timestamp('2023-10-17 20:00:02+0000', tz='UTC'): 12.519}, 'market_cap': {Timestamp('2023-10-17 20:00:02+0000', tz='UTC'): 33473813466.0}, 'price_avg50': {Timestamp('2023-10-17 20:00:02+0000', tz='UTC'): 38.5616}, 'price_avg200': {Timestamp('2023-10-17 20:00:02+0000', tz='UTC'): 30}, 'volume': {Timestamp('2023-10-17 20:00:02+0000', tz='UTC'): 2920001}, 'avg_volume': {Timestamp('2023-10-17 20:00:02+0000', tz='UTC'): 6266404}, 'exchange': {Timestamp('2023-10-17 20:00:02+0000', tz='UTC'): 'NASDAQ'}, 'open': {Timestamp('2023-10-17 20:00:02+0000', tz='UTC'): 33.15}, 'previous_close': {Timestamp('2023-10-17 20:00:02+0000', tz='UTC'): 33.52}, 'eps': {Timestamp('2023-10-17 20:00:02+0000', tz='UTC'): 0.23}, 'pe': {Timestamp('2023-10-17 20:00:02+0000', tz='UTC'): 145.22}, 'earnings_announcement': {Timestamp('2023-10-17 20:00:02+0000', tz='UTC'): '2023-12-07T13:30:00.000+0000'}, 'shares_outstanding': {Timestamp('2023-10-17 20:00:02+0000', tz='UTC'): 1002209984}}\u001b[0m\u001b[32;1m\u001b[1;3m\n",
      "Invoking: `get_generic_info_from_symbol` with `{'symbol': 'RIVN'}`\n",
      "\n",
      "\n",
      "\u001b[0m\u001b[33;1m\u001b[1;3m{'day_low': {Timestamp('2023-10-17 20:00:00+0000', tz='UTC'): 19.21}, 'day_high': {Timestamp('2023-10-17 20:00:00+0000', tz='UTC'): 20.22}, 'symbol': {Timestamp('2023-10-17 20:00:00+0000', tz='UTC'): 'RIVN'}, 'name': {Timestamp('2023-10-17 20:00:00+0000', tz='UTC'): 'Rivian Automotive, Inc.'}, 'price': {Timestamp('2023-10-17 20:00:00+0000', tz='UTC'): 19.9}, 'changes_percentage': {Timestamp('2023-10-17 20:00:00+0000', tz='UTC'): 1.2208}, 'change': {Timestamp('2023-10-17 20:00:00+0000', tz='UTC'): 0.24}, 'year_high': {Timestamp('2023-10-17 20:00:00+0000', tz='UTC'): 36.446}, 'year_low': {Timestamp('2023-10-17 20:00:00+0000', tz='UTC'): 11.68}, 'market_cap': {Timestamp('2023-10-17 20:00:00+0000', tz='UTC'): 18712188422.0}, 'price_avg50': {Timestamp('2023-10-17 20:00:00+0000', tz='UTC'): 21.837}, 'price_avg200': {Timestamp('2023-10-17 20:00:00+0000', tz='UTC'): 18}, 'volume': {Timestamp('2023-10-17 20:00:00+0000', tz='UTC'): 32941203}, 'avg_volume': {Timestamp('2023-10-17 20:00:00+0000', tz='UTC'): 40250845}, 'exchange': {Timestamp('2023-10-17 20:00:00+0000', tz='UTC'): 'NASDAQ'}, 'open': {Timestamp('2023-10-17 20:00:00+0000', tz='UTC'): 19.28}, 'previous_close': {Timestamp('2023-10-17 20:00:00+0000', tz='UTC'): 19.66}, 'eps': {Timestamp('2023-10-17 20:00:00+0000', tz='UTC'): -6.45}, 'pe': {Timestamp('2023-10-17 20:00:00+0000', tz='UTC'): -3.09}, 'earnings_announcement': {Timestamp('2023-10-17 20:00:00+0000', tz='UTC'): '2023-11-07T21:00:00.000+0000'}, 'shares_outstanding': {Timestamp('2023-10-17 20:00:00+0000', tz='UTC'): 940310976}}\u001b[0m\u001b[32;1m\u001b[1;3m\n",
      "Invoking: `get_generic_info_from_symbol` with `{'symbol': 'LCID'}`\n",
      "\n",
      "\n",
      "\u001b[0m\u001b[33;1m\u001b[1;3m{'day_low': {Timestamp('2023-10-17 20:00:02+0000', tz='UTC'): 4.901}, 'day_high': {Timestamp('2023-10-17 20:00:02+0000', tz='UTC'): 5.23}, 'symbol': {Timestamp('2023-10-17 20:00:02+0000', tz='UTC'): 'LCID'}, 'name': {Timestamp('2023-10-17 20:00:02+0000', tz='UTC'): 'Lucid Group, Inc.'}, 'price': {Timestamp('2023-10-17 20:00:02+0000', tz='UTC'): 5.0}, 'changes_percentage': {Timestamp('2023-10-17 20:00:02+0000', tz='UTC'): -5.303}, 'change': {Timestamp('2023-10-17 20:00:02+0000', tz='UTC'): -0.28}, 'year_high': {Timestamp('2023-10-17 20:00:02+0000', tz='UTC'): 17.81}, 'year_low': {Timestamp('2023-10-17 20:00:02+0000', tz='UTC'): 4.87}, 'market_cap': {Timestamp('2023-10-17 20:00:02+0000', tz='UTC'): 11413250560.0}, 'price_avg50': {Timestamp('2023-10-17 20:00:02+0000', tz='UTC'): 5.872}, 'price_avg200': {Timestamp('2023-10-17 20:00:02+0000', tz='UTC'): 7}, 'volume': {Timestamp('2023-10-17 20:00:02+0000', tz='UTC'): 47260030}, 'avg_volume': {Timestamp('2023-10-17 20:00:02+0000', tz='UTC'): 32500564}, 'exchange': {Timestamp('2023-10-17 20:00:02+0000', tz='UTC'): 'NASDAQ'}, 'open': {Timestamp('2023-10-17 20:00:02+0000', tz='UTC'): 4.92}, 'previous_close': {Timestamp('2023-10-17 20:00:02+0000', tz='UTC'): 5.28}, 'eps': {Timestamp('2023-10-17 20:00:02+0000', tz='UTC'): -1.68}, 'pe': {Timestamp('2023-10-17 20:00:02+0000', tz='UTC'): -2.98}, 'earnings_announcement': {Timestamp('2023-10-17 20:00:02+0000', tz='UTC'): '2023-11-06T10:59:00.000+0000'}, 'shares_outstanding': {Timestamp('2023-10-17 20:00:02+0000', tz='UTC'): 2282650112}}\u001b[0m\u001b[32;1m\u001b[1;3m\n",
      "Invoking: `get_generic_info_from_symbol` with `{'symbol': 'GM'}`\n",
      "\n",
      "\n",
      "\u001b[0m\u001b[33;1m\u001b[1;3m{'day_low': {Timestamp('2023-10-17 20:00:02+0000', tz='UTC'): 29.78}, 'day_high': {Timestamp('2023-10-17 20:00:02+0000', tz='UTC'): 30.61}, 'symbol': {Timestamp('2023-10-17 20:00:02+0000', tz='UTC'): 'GM'}, 'name': {Timestamp('2023-10-17 20:00:02+0000', tz='UTC'): 'General Motors Company'}, 'price': {Timestamp('2023-10-17 20:00:02+0000', tz='UTC'): 30.33}, 'changes_percentage': {Timestamp('2023-10-17 20:00:02+0000', tz='UTC'): 0.8982}, 'change': {Timestamp('2023-10-17 20:00:02+0000', tz='UTC'): 0.27}, 'year_high': {Timestamp('2023-10-17 20:00:02+0000', tz='UTC'): 43.63}, 'year_low': {Timestamp('2023-10-17 20:00:02+0000', tz='UTC'): 29.54}, 'market_cap': {Timestamp('2023-10-17 20:00:02+0000', tz='UTC'): 41731350785.0}, 'price_avg50': {Timestamp('2023-10-17 20:00:02+0000', tz='UTC'): 32.9048}, 'price_avg200': {Timestamp('2023-10-17 20:00:02+0000', tz='UTC'): 35}, 'volume': {Timestamp('2023-10-17 20:00:02+0000', tz='UTC'): 19789143}, 'avg_volume': {Timestamp('2023-10-17 20:00:02+0000', tz='UTC'): 13052912}, 'exchange': {Timestamp('2023-10-17 20:00:02+0000', tz='UTC'): 'NYSE'}, 'open': {Timestamp('2023-10-17 20:00:02+0000', tz='UTC'): 29.8}, 'previous_close': {Timestamp('2023-10-17 20:00:02+0000', tz='UTC'): 30.06}, 'eps': {Timestamp('2023-10-17 20:00:02+0000', tz='UTC'): 7.16}, 'pe': {Timestamp('2023-10-17 20:00:02+0000', tz='UTC'): 4.24}, 'earnings_announcement': {Timestamp('2023-10-17 20:00:02+0000', tz='UTC'): '2023-10-24T12:30:00.000+0000'}, 'shares_outstanding': {Timestamp('2023-10-17 20:00:02+0000', tz='UTC'): 1375910016}}\u001b[0m\u001b[32;1m\u001b[1;3m\n",
      "Invoking: `get_generic_info_from_symbol` with `{'symbol': 'NIO'}`\n",
      "\n",
      "\n",
      "\u001b[0m\u001b[33;1m\u001b[1;3m{'day_low': {Timestamp('2023-10-17 20:00:02+0000', tz='UTC'): 8.29}, 'day_high': {Timestamp('2023-10-17 20:00:02+0000', tz='UTC'): 8.65}, 'symbol': {Timestamp('2023-10-17 20:00:02+0000', tz='UTC'): 'NIO'}, 'name': {Timestamp('2023-10-17 20:00:02+0000', tz='UTC'): 'NIO Inc.'}, 'price': {Timestamp('2023-10-17 20:00:02+0000', tz='UTC'): 8.53}, 'changes_percentage': {Timestamp('2023-10-17 20:00:02+0000', tz='UTC'): 0.1174}, 'change': {Timestamp('2023-10-17 20:00:02+0000', tz='UTC'): 0.01}, 'year_high': {Timestamp('2023-10-17 20:00:02+0000', tz='UTC'): 16.18}, 'year_low': {Timestamp('2023-10-17 20:00:02+0000', tz='UTC'): 7.0}, 'market_cap': {Timestamp('2023-10-17 20:00:02+0000', tz='UTC'): 15171543709.0}, 'price_avg50': {Timestamp('2023-10-17 20:00:02+0000', tz='UTC'): 10.2124}, 'price_avg200': {Timestamp('2023-10-17 20:00:02+0000', tz='UTC'): 9}, 'volume': {Timestamp('2023-10-17 20:00:02+0000', tz='UTC'): 18291472}, 'avg_volume': {Timestamp('2023-10-17 20:00:02+0000', tz='UTC'): 57119892}, 'exchange': {Timestamp('2023-10-17 20:00:02+0000', tz='UTC'): 'NYSE'}, 'open': {Timestamp('2023-10-17 20:00:02+0000', tz='UTC'): 8.33}, 'previous_close': {Timestamp('2023-10-17 20:00:02+0000', tz='UTC'): 8.52}, 'eps': {Timestamp('2023-10-17 20:00:02+0000', tz='UTC'): -1.65}, 'pe': {Timestamp('2023-10-17 20:00:02+0000', tz='UTC'): -5.17}, 'earnings_announcement': {Timestamp('2023-10-17 20:00:02+0000', tz='UTC'): '2023-11-08T00:00:00.000+0000'}, 'shares_outstanding': {Timestamp('2023-10-17 20:00:02+0000', tz='UTC'): 1778610048}}\u001b[0m\u001b[32;1m\u001b[1;3m\n",
      "Invoking: `get_generic_info_from_symbol` with `{'symbol': 'F'}`\n",
      "\n",
      "\n",
      "\u001b[0m\u001b[33;1m\u001b[1;3m{'day_low': {Timestamp('2023-10-17 20:01:14+0000', tz='UTC'): 11.85}, 'day_high': {Timestamp('2023-10-17 20:01:14+0000', tz='UTC'): 12.17}, 'symbol': {Timestamp('2023-10-17 20:01:14+0000', tz='UTC'): 'F'}, 'name': {Timestamp('2023-10-17 20:01:14+0000', tz='UTC'): 'Ford Motor Company'}, 'price': {Timestamp('2023-10-17 20:01:14+0000', tz='UTC'): 12.04}, 'changes_percentage': {Timestamp('2023-10-17 20:01:14+0000', tz='UTC'): 0.922}, 'change': {Timestamp('2023-10-17 20:01:14+0000', tz='UTC'): 0.11}, 'year_high': {Timestamp('2023-10-17 20:01:14+0000', tz='UTC'): 15.42}, 'year_low': {Timestamp('2023-10-17 20:01:14+0000', tz='UTC'): 10.9}, 'market_cap': {Timestamp('2023-10-17 20:01:14+0000', tz='UTC'): 47333694607.0}, 'price_avg50': {Timestamp('2023-10-17 20:01:14+0000', tz='UTC'): 12.202}, 'price_avg200': {Timestamp('2023-10-17 20:01:14+0000', tz='UTC'): 12}, 'volume': {Timestamp('2023-10-17 20:01:14+0000', tz='UTC'): 38839334}, 'avg_volume': {Timestamp('2023-10-17 20:01:14+0000', tz='UTC'): 48154128}, 'exchange': {Timestamp('2023-10-17 20:01:14+0000', tz='UTC'): 'NYSE'}, 'open': {Timestamp('2023-10-17 20:01:14+0000', tz='UTC'): 11.85}, 'previous_close': {Timestamp('2023-10-17 20:01:14+0000', tz='UTC'): 11.93}, 'eps': {Timestamp('2023-10-17 20:01:14+0000', tz='UTC'): 1.03}, 'pe': {Timestamp('2023-10-17 20:01:14+0000', tz='UTC'): 11.69}, 'earnings_announcement': {Timestamp('2023-10-17 20:01:14+0000', tz='UTC'): '2023-10-24T20:05:00.000+0000'}, 'shares_outstanding': {Timestamp('2023-10-17 20:01:14+0000', tz='UTC'): 3931369984}}\u001b[0m\u001b[32;1m\u001b[1;3m\n",
      "Invoking: `get_generic_info_from_symbol` with `{'symbol': 'FSR'}`\n",
      "\n",
      "\n",
      "\u001b[0m\u001b[33;1m\u001b[1;3m{'day_low': {Timestamp('2023-10-17 20:00:02+0000', tz='UTC'): 6.105}, 'day_high': {Timestamp('2023-10-17 20:00:02+0000', tz='UTC'): 6.36}, 'symbol': {Timestamp('2023-10-17 20:00:02+0000', tz='UTC'): 'FSR'}, 'name': {Timestamp('2023-10-17 20:00:02+0000', tz='UTC'): 'Fisker Inc.'}, 'price': {Timestamp('2023-10-17 20:00:02+0000', tz='UTC'): 6.14}, 'changes_percentage': {Timestamp('2023-10-17 20:00:02+0000', tz='UTC'): -1.4446}, 'change': {Timestamp('2023-10-17 20:00:02+0000', tz='UTC'): -0.09}, 'year_high': {Timestamp('2023-10-17 20:00:02+0000', tz='UTC'): 8.85}, 'year_low': {Timestamp('2023-10-17 20:00:02+0000', tz='UTC'): 4.26}, 'market_cap': {Timestamp('2023-10-17 20:00:02+0000', tz='UTC'): 2107493551.0}, 'price_avg50': {Timestamp('2023-10-17 20:00:02+0000', tz='UTC'): 6.045}, 'price_avg200': {Timestamp('2023-10-17 20:00:02+0000', tz='UTC'): 6}, 'volume': {Timestamp('2023-10-17 20:00:02+0000', tz='UTC'): 3913289}, 'avg_volume': {Timestamp('2023-10-17 20:00:02+0000', tz='UTC'): 7692748}, 'exchange': {Timestamp('2023-10-17 20:00:02+0000', tz='UTC'): 'NYSE'}, 'open': {Timestamp('2023-10-17 20:00:02+0000', tz='UTC'): 6.15}, 'previous_close': {Timestamp('2023-10-17 20:00:02+0000', tz='UTC'): 6.23}, 'eps': {Timestamp('2023-10-17 20:00:02+0000', tz='UTC'): -1.66}, 'pe': {Timestamp('2023-10-17 20:00:02+0000', tz='UTC'): -3.7}, 'earnings_announcement': {Timestamp('2023-10-17 20:00:02+0000', tz='UTC'): '2023-10-31T10:59:00.000+0000'}, 'shares_outstanding': {Timestamp('2023-10-17 20:00:02+0000', tz='UTC'): 343239992}}\u001b[0m\u001b[32;1m\u001b[1;3m\n",
      "Invoking: `get_generic_info_from_symbol` with `{'symbol': 'MULN'}`\n",
      "\n",
      "\n",
      "\u001b[0m\u001b[33;1m\u001b[1;3m{'day_low': {Timestamp('2023-10-17 20:00:02+0000', tz='UTC'): 0.355}, 'day_high': {Timestamp('2023-10-17 20:00:02+0000', tz='UTC'): 0.378}, 'symbol': {Timestamp('2023-10-17 20:00:02+0000', tz='UTC'): 'MULN'}, 'name': {Timestamp('2023-10-17 20:00:02+0000', tz='UTC'): 'Mullen Automotive, Inc.'}, 'price': {Timestamp('2023-10-17 20:00:02+0000', tz='UTC'): 0.3604}, 'changes_percentage': {Timestamp('2023-10-17 20:00:02+0000', tz='UTC'): 0.9524}, 'change': {Timestamp('2023-10-17 20:00:02+0000', tz='UTC'): 0.0034}, 'year_high': {Timestamp('2023-10-17 20:00:02+0000', tz='UTC'): 15.25}, 'year_low': {Timestamp('2023-10-17 20:00:02+0000', tz='UTC'): 0.1}, 'market_cap': {Timestamp('2023-10-17 20:00:02+0000', tz='UTC'): 66374505.0}, 'price_avg50': {Timestamp('2023-10-17 20:00:02+0000', tz='UTC'): 0.5306}, 'price_avg200': {Timestamp('2023-10-17 20:00:02+0000', tz='UTC'): 2}, 'volume': {Timestamp('2023-10-17 20:00:02+0000', tz='UTC'): 21737614}, 'avg_volume': {Timestamp('2023-10-17 20:00:02+0000', tz='UTC'): 120956892}, 'exchange': {Timestamp('2023-10-17 20:00:02+0000', tz='UTC'): 'NASDAQ'}, 'open': {Timestamp('2023-10-17 20:00:02+0000', tz='UTC'): 0.36}, 'previous_close': {Timestamp('2023-10-17 20:00:02+0000', tz='UTC'): 0.357}, 'eps': {Timestamp('2023-10-17 20:00:02+0000', tz='UTC'): -283.03}, 'pe': {Timestamp('2023-10-17 20:00:02+0000', tz='UTC'): 0.0}, 'earnings_announcement': {Timestamp('2023-10-17 20:00:02+0000', tz='UTC'): '2024-01-11T22:15:00.000+0000'}, 'shares_outstanding': {Timestamp('2023-10-17 20:00:02+0000', tz='UTC'): 184168992}}\u001b[0m\u001b[32;1m\u001b[1;3m\n",
      "Invoking: `get_price_target_with_analyst` with `{'symbol': 'F'}`\n",
      "responded: The peers of TSLA are XPEV, LI, RIVN, LCID, GM, NIO, F, FSR, and MULN. Here are their market caps:\n",
      "\n",
      "- XPEV: $13,327,554,011\n",
      "- LI: $33,473,813,466\n",
      "- RIVN: $18,712,188,422\n",
      "- LCID: $11,413,250,560\n",
      "- GM: $41,731,350,785\n",
      "- NIO: $15,171,543,709\n",
      "- F: $47,333,694,607\n",
      "- FSR: $2,107,493,551\n",
      "- MULN: $66,374,505\n",
      "\n",
      "The company with the highest market cap among TSLA's peers is Ford Motor Company (F) with a market cap of $47,333,694,607. Let's get the most recent rating from an analyst for this company.\n",
      "\n",
      "\u001b[0m\u001b[38;5;200m\u001b[1;3m{'symbol': {0: 'F', 1: 'F', 2: 'F', 3: 'F', 4: 'F'}, 'published_date': {0: Timestamp('2023-07-31 13:21:00'), 1: Timestamp('2022-12-06 06:44:00'), 2: Timestamp('2022-11-30 06:58:00'), 3: Timestamp('2022-10-27 11:28:00'), 4: Timestamp('2022-10-05 08:17:00')}, 'news_url': {0: 'https://www.benzinga.com/news/23/07/33469179/fords-4-5-billion-ev-loss-overshadowed-by-q2-revenue-surge-morgan-stanley-sees-potential-shift-in-ev', 1: 'https://www.benzinga.com/trading-ideas/long-ideas/22/12/29970381/ford-tesla-and-other-big-auto-stocks-from-benzingas-most-accurate-analysts', 2: 'https://www.benzinga.com/news/22/11/29902358/citigroup-maintains-neutral-on-ford-motor-raises-price-target-to-14', 3: 'https://www.benzinga.com/analyst-ratings/analyst-color/22/10/29438311/ford-earnings-beat-doesnt-impress-these-analysts-heres-why', 4: 'https://www.benzinga.com/analyst-ratings/upgrades/22/10/29151421/why-ford-stock-is-rising-today'}, 'news_title': {0: \"Ford's $4.5 Billion EV Loss Overshadowed by Q2 Revenue Surge: Morgan Stanley Sees Potential Shift in EV Strategy\", 1: \"Ford, Tesla And Other Big Auto Stocks From Benzinga's Most Accurate Analysts\", 2: 'Citigroup Maintains Neutral on Ford Motor, Raises Price Target to $14', 3: \"Ford Earnings Beat Doesn't Impress These Analysts: Here's Why\", 4: 'Why Ford Stock Is Rising Today'}, 'analyst_name': {0: 'Adam Jonas', 1: 'Adam Jonas', 2: None, 3: 'Mark Delaney', 4: 'Adam Jonas'}, 'analyst_company': {0: 'Morgan Stanley', 1: 'Morgan Stanley', 2: 'Citigroup', 3: 'Goldman Sachs', 4: 'Morgan Stanley'}, 'price_target': {0: 16.0, 1: 32.0, 2: 14.0, 3: 13.0, 4: 14.0}, 'adj_price_target': {0: 16.0, 1: 32.0, 2: 14.0, 3: 13.0, 4: 14.0}, 'price_when_posted': {0: 13.11, 1: 13.38, 2: 13.75, 3: 12.93, 4: 12.36}, 'news_publisher': {0: 'Benzinga', 1: 'Benzinga', 2: 'Benzinga', 3: 'Benzinga', 4: 'Benzinga'}, 'news_base_url': {0: 'benzinga.com', 1: 'benzinga.com', 2: 'benzinga.com', 3: 'benzinga.com', 4: 'benzinga.com'}}\u001b[0m\u001b[32;1m\u001b[1;3mThe most recent rating for Ford Motor Company (F) was done by Adam Jonas from Morgan Stanley on July 31, 2023. The news was published on Benzinga with the title \"Ford's $4.5 Billion EV Loss Overshadowed by Q2 Revenue Surge: Morgan Stanley Sees Potential Shift in EV Strategy\". The price target set by the analyst was $16.\u001b[0m\n",
      "\n",
      "\u001b[1m> Finished chain.\u001b[0m\n"
     ]
    },
    {
     "data": {
      "text/plain": [
       "{'input': '\\n    Check what are TSLA peers. From those, check which one has the highest market cap.\\n    Then, on the ticker that has the highest market cap get the most recent rating from an analyst.\\n    And tell me who was the analyst and what date was it that the rating was done.\\n',\n",
       " 'chat_history': [HumanMessage(content='\\n    Check what are TSLA peers. From those, check which one has the highest market cap.\\n    Then, on the ticker that has the highest market cap get the most recent rating from an analyst.\\n    And tell me who was the analyst and what date was it that the rating was done.\\n'),\n",
       "  AIMessage(content='The most recent rating for Ford Motor Company (F) was done by Adam Jonas from Morgan Stanley on July 31, 2023. The news was published on Benzinga with the title \"Ford\\'s $4.5 Billion EV Loss Overshadowed by Q2 Revenue Surge: Morgan Stanley Sees Potential Shift in EV Strategy\". The price target set by the analyst was $16.')],\n",
       " 'output': 'The most recent rating for Ford Motor Company (F) was done by Adam Jonas from Morgan Stanley on July 31, 2023. The news was published on Benzinga with the title \"Ford\\'s $4.5 Billion EV Loss Overshadowed by Q2 Revenue Surge: Morgan Stanley Sees Potential Shift in EV Strategy\". The price target set by the analyst was $16.'}"
      ]
     },
     "execution_count": 16,
     "metadata": {},
     "output_type": "execute_result"
    }
   ],
   "source": [
    "# Currently relevant_tools are coming from above\n",
    "# I.e. there's 1 tool being retrieved from each simpler task description comparison with\n",
    "# tools available using embeddings\n",
    "\n",
    "# We should also allow users to specify which tools they want the analyst to have access to\n",
    "# when performing a task\n",
    "# relevant_tools = [\n",
    "#     get_peers_associated_with_symbol,\n",
    "#     get_generic_info_from_symbol,\n",
    "#     get_price_target_with_analyst\n",
    "# ]\n",
    "\n",
    "# Format tools to a format accepted by OpenAI\n",
    "functions = [format_tool_to_openai_function(f) for f in relevant_tools]\n",
    "\n",
    "# Bind the functions to an OpenAI model \n",
    "model = ChatOpenAI(\n",
    "    temperature=0,\n",
    "    model=\"gpt-4\", # Use gpt-3.5 for cheaper cost\n",
    ").bind(functions=functions)\n",
    "\n",
    "# Prompt template\n",
    "# - comment chat_history if you don't want the agent to know about the past conversation\n",
    "# - comment agent_scratchpad if you don't want the agent to use previous outputs as inputs\n",
    "prompt = ChatPromptTemplate.from_messages([\n",
    "    (\"system\", \"\"\"\n",
    "        You are an expert financial analyst with a 30+ year successful career in finance.\n",
    "        You must ALWAYS use at least one of the tools provided when answering a question.\n",
    "    \"\"\"),\n",
    "    MessagesPlaceholder(variable_name=\"chat_history\"),\n",
    "    (\"user\", \"{input}\"),\n",
    "    MessagesPlaceholder(variable_name=\"agent_scratchpad\")\n",
    "])\n",
    "\n",
    "# Creates the chain\n",
    "chain = RunnablePassthrough.assign(\n",
    "    agent_scratchpad= lambda x: format_to_openai_functions(x[\"intermediate_steps\"])\n",
    ") | prompt | model | OpenAIFunctionsAgentOutputParser()\n",
    "\n",
    "# Create a memory for the agent to recall what was chatted in the past\n",
    "memory = ConversationBufferMemory(\n",
    "    return_messages=True,\n",
    "    memory_key=\"chat_history\"\n",
    ")\n",
    "\n",
    "# Create an agent that has access to the relevant tools and has memory\n",
    "agent_executor = AgentExecutor(\n",
    "    agent=chain,\n",
    "    tools=relevant_tools,\n",
    "    verbose=True,\n",
    "    memory=memory\n",
    ")\n",
    "\n",
    "agent_executor.invoke({\"input\": query})\n",
    "\n",
    "# Since our agent has a memory and access to past messages\n",
    "# we could also iterate through the list of simpler tasks to be performed\n",
    "# for t in simpler_tasks:\n",
    "#     agent_executor.invoke({\"input\": t})"
   ]
  },
  {
   "cell_type": "code",
   "execution_count": null,
   "id": "d26c8107-c90f-4e04-844e-ed6cd99367e0",
   "metadata": {},
   "outputs": [],
   "source": []
  }
 ],
 "metadata": {
  "kernelspec": {
   "display_name": "Python 3 (ipykernel)",
   "language": "python",
   "name": "python3"
  },
  "language_info": {
   "codemirror_mode": {
    "name": "ipython",
    "version": 3
   },
   "file_extension": ".py",
   "mimetype": "text/x-python",
   "name": "python",
   "nbconvert_exporter": "python",
   "pygments_lexer": "ipython3",
   "version": "3.11.4"
  }
 },
 "nbformat": 4,
 "nbformat_minor": 5
}
