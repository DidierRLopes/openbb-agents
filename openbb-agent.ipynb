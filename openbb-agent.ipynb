{
 "cells": [
  {
   "cell_type": "code",
   "execution_count": 15,
   "id": "aa68315b-3d2b-47ad-9b40-eb81c3a4d79c",
   "metadata": {},
   "outputs": [],
   "source": [
    "import os\n",
    "from typing import List, Optional\n",
    "from pydantic import BaseModel, Field\n",
    "# import instructor\n",
    "import openai\n",
    "\n",
    "from langchain.agents import tool\n",
    "from langchain.agents import AgentExecutor, Tool\n",
    "from langchain.vectorstores import FAISS\n",
    "from langchain.vectorstores import Chroma\n",
    "from langchain.embeddings import OpenAIEmbeddings\n",
    "from langchain.schema import Document\n",
    "from langchain.chat_models import ChatOpenAI\n",
    "from langchain.prompts import ChatPromptTemplate\n",
    "from langchain.schema.runnable import RunnablePassthrough\n",
    "from langchain.tools.render import format_tool_to_openai_function\n",
    "from langchain.agents.format_scratchpad import format_to_openai_functions\n",
    "from langchain.agents import AgentExecutor\n",
    "from langchain.prompts import MessagesPlaceholder\n",
    "from langchain.memory import ConversationBufferMemory\n",
    "from langchain.agents.output_parsers import OpenAIFunctionsAgentOutputParser\n",
    "from langchain.schema.messages import HumanMessage\n",
    "from langchain.schema.agent import AgentFinish\n",
    "from langchain.embeddings import SentenceTransformerEmbeddings\n",
    "\n",
    "# obb needs pydantic 1.10\n",
    "# instructor doesnt work on that pydantic\n",
    "\n",
    "# instructor needs more than 2\n",
    "# obb doesnt work on that pydantic lol\n",
    "\n",
    "# !pip install pydantic --upgrade\n",
    "# import instructor\n",
    "\n",
    "# !pip install pydantic==1.10\n",
    "from openbb import obb\n",
    "from openbb_provider import standard_models\n",
    "\n",
    "# Set up OpenAI API key\n",
    "os.environ[\"OPENAI_API_KEY\"] = \"YOUR_API_KEY\"\n",
    "openai.api_key = \"YOUR_API_KEY\""
   ]
  },
  {
   "cell_type": "markdown",
   "id": "659391a4-391d-4f4a-b477-6cc055392f3e",
   "metadata": {},
   "source": [
    "# Transform OpenBB commands into OpenAI tools\n",
    "- Currently need to do: to_df().to_dict() because of a bug at the core that will be fixed\n",
    "- Ideally, OpenBB provides this list out-of-the-box"
   ]
  },
  {
   "cell_type": "markdown",
   "id": "41a11334-74dd-473f-9f60-0f4ed17daf41",
   "metadata": {},
   "source": [
    "### This creates the pydantic schema from scratch"
   ]
  },
  {
   "cell_type": "code",
   "execution_count": 2,
   "id": "8c434005-b8de-4153-b427-686ce4cab7cd",
   "metadata": {},
   "outputs": [],
   "source": [
    "class InputSchema(BaseModel):\n",
    "    symbol: str = Field(..., description=\"Symbol to get data for\")\n",
    "    provider: Optional[str] = Field(description=\"The provider to use for the query\", default=None)\n",
    "\n",
    "@tool(args_schema=InputSchema)\n",
    "def get_peers_associated_with_symbol(\n",
    "    symbol: str,\n",
    "    provider: str = None,\n",
    ") -> dict:\n",
    "    \"\"\"Get peers associated with a symbol\"\"\"\n",
    "\n",
    "    return obb.stocks.ca.peers(symbol=symbol, provider=provider).to_df().to_dict()\n",
    "\n",
    "\n",
    "class InputSchema(BaseModel):\n",
    "    symbol: str = Field(..., description=\"Symbol to get data for\")\n",
    "    provider: Optional[str] = Field(description=\"The provider to use\", default=None)\n",
    "\n",
    "@tool(args_schema=InputSchema)\n",
    "def get_generic_info_from_symbol(\n",
    "    symbol: str,\n",
    "    provider: str = None,\n",
    ") -> dict:\n",
    "    \"\"\"Get generic information from a symbol including market_cap, volume, eps\"\"\"\n",
    "\n",
    "    return obb.stocks.quote(symbol=symbol, provider=provider).to_dict()\n",
    "\n",
    "\n",
    "class InputSchema(BaseModel):\n",
    "    symbol: str = Field(..., description=\"Symbol to get data for\")\n",
    "    provider: Optional[str] = Field(description=\"The provider to use\", default=None)\n",
    "\n",
    "@tool(args_schema=InputSchema)\n",
    "def get_price_target_with_analyst(\n",
    "    symbol: str,\n",
    "    provider: str = None,\n",
    ") -> dict:\n",
    "    \"\"\"Get price target for symbol of interest, date of rating and rating value\"\"\"\n",
    "\n",
    "    return obb.stocks.fa.pta(symbol=symbol, provider=provider).to_df().head().to_dict()\n",
    "\n",
    "# vars(get_generic_info_from_symbol)"
   ]
  },
  {
   "cell_type": "markdown",
   "id": "4172f572-8e2e-4124-a825-d6a44c5c2085",
   "metadata": {},
   "source": [
    "### This relies on OpenBB pydantic schema"
   ]
  },
  {
   "cell_type": "code",
   "execution_count": 3,
   "id": "8a103f77-51ff-4d9b-99b3-961ce1e52538",
   "metadata": {},
   "outputs": [],
   "source": [
    "@tool(args_schema=standard_models.stock_peers.StockPeersQueryParams)\n",
    "def get_peers_associated_with_symbol(\n",
    "    symbol: str,\n",
    "    provider: str = None,\n",
    ") -> dict:\n",
    "    \"\"\"Get peers associated with a symbol\"\"\"\n",
    "\n",
    "    return obb.stocks.ca.peers(symbol=symbol, provider=provider).to_df().to_dict()\n",
    "\n",
    "# The current pydantic model has a bad description which interferes with prompt length, fix for now\n",
    "standard_models.stock_quote.StockQuoteQueryParams.schema()['properties'][\"symbol\"][\"description\"] = \"Symbol to get data from\"\n",
    "\n",
    "@tool(args_schema=standard_models.stock_quote.StockQuoteQueryParams)\n",
    "def get_generic_info_from_symbol(\n",
    "    symbol: str,\n",
    "    provider: str = None,\n",
    ") -> dict:\n",
    "    \"\"\"Get generic information from a symbol including market_cap, volume, eps\"\"\"\n",
    "\n",
    "    return obb.stocks.quote(symbol=symbol, provider=provider).to_df().to_dict()\n",
    "\n",
    "\n",
    "@tool(args_schema=standard_models.price_target.PriceTargetQueryParams)\n",
    "def get_price_target_with_analyst(\n",
    "    symbol: str,\n",
    "    provider: str = None,\n",
    ") -> dict:\n",
    "    \"\"\"Get price target for one single symbol of interest, date of rating and rating value\"\"\"\n",
    "\n",
    "    # Here we need to get the head of last 5 values, otherwise we go above limit of tokens per context\n",
    "    return obb.stocks.fa.pta(symbol=symbol, provider=provider).to_df().head().to_dict()\n",
    "\n",
    "# vars(get_generic_info_from_symbol)"
   ]
  },
  {
   "cell_type": "markdown",
   "id": "946093a2-5c48-4086-a1aa-9283effbd95c",
   "metadata": {},
   "source": [
    "### Check that the pydantic models are well defined "
   ]
  },
  {
   "cell_type": "code",
   "execution_count": 4,
   "id": "fb61c69c-7889-4457-9943-0be658bc92d0",
   "metadata": {},
   "outputs": [
    {
     "data": {
      "text/plain": [
       "{'symbol': {'title': 'Symbol',\n",
       "  'description': 'Symbol to get data from',\n",
       "  'type': 'string'}}"
      ]
     },
     "execution_count": 4,
     "metadata": {},
     "output_type": "execute_result"
    }
   ],
   "source": [
    "standard_models.stock_quote.StockQuoteQueryParams.schema()['properties']"
   ]
  },
  {
   "cell_type": "code",
   "execution_count": 5,
   "id": "c4d7ed12-e4a2-4474-b30f-5462446f4bc9",
   "metadata": {},
   "outputs": [
    {
     "data": {
      "text/plain": [
       "{'symbol': {'title': 'Symbol',\n",
       "  'description': 'Symbol to get data for',\n",
       "  'type': 'string'},\n",
       " 'provider': {'title': 'Provider',\n",
       "  'description': 'The provider to use',\n",
       "  'type': 'string'}}"
      ]
     },
     "execution_count": 5,
     "metadata": {},
     "output_type": "execute_result"
    }
   ],
   "source": [
    "class InputSchema(BaseModel):\n",
    "    symbol: str = Field(..., description=\"Symbol to get data for\")\n",
    "    provider: Optional[str] = Field(description=\"The provider to use\", default=None)\n",
    "    \n",
    "InputSchema.schema()['properties']"
   ]
  },
  {
   "cell_type": "markdown",
   "id": "1b2952d2-6f56-4b7a-9f5f-01cae4cd7e51",
   "metadata": {},
   "source": [
    "## List of available tools"
   ]
  },
  {
   "cell_type": "code",
   "execution_count": 6,
   "id": "40b39615-c6c4-4da1-8a33-79b968ab2f57",
   "metadata": {},
   "outputs": [],
   "source": [
    "# Ideally OpenBB provides this list by default\n",
    "tools = [\n",
    "    get_peers_associated_with_symbol,\n",
    "    get_generic_info_from_symbol,\n",
    "    get_price_target_with_analyst\n",
    "]"
   ]
  },
  {
   "cell_type": "code",
   "execution_count": 7,
   "id": "1d8a3da8-6242-4983-8c2d-05c4be489f68",
   "metadata": {},
   "outputs": [],
   "source": [
    "# Let us create fake tools to show that this can scale well\n",
    "def fake_func(inp: str) -> str:\n",
    "    return \"foo\"\n",
    "    \n",
    "fake_tools = [\n",
    "    Tool(\n",
    "        name=f\"foo-{i}\",\n",
    "        func=fake_func,\n",
    "        description=f\"a silly function that you can use to get more information about the number {i}\",\n",
    "    )\n",
    "    for i in range(99)\n",
    "]\n",
    "\n",
    "tools += fake_tools"
   ]
  },
  {
   "cell_type": "markdown",
   "id": "dd46bb95-8ed7-47dc-840c-61832e7d90aa",
   "metadata": {},
   "source": [
    "# Query to be used by analyst"
   ]
  },
  {
   "cell_type": "code",
   "execution_count": 8,
   "id": "ceb50879-9c82-4a8e-9ed4-4ba3e90d1fab",
   "metadata": {},
   "outputs": [],
   "source": [
    "query = \"\"\"\n",
    "    Check what are TSLA peers. From those, check which one has the highest market cap.\n",
    "    Then, on the ticker that has the highest market cap get the most recent rating from an analyst.\n",
    "    And tell me who was the analyst and what date was it that the rating was done.\n",
    "\"\"\""
   ]
  },
  {
   "cell_type": "markdown",
   "id": "8a4fb6f0-6c31-4852-a6ae-d8dfbd474b55",
   "metadata": {},
   "source": [
    "# Based on query select list of tools to be used by OpenAI"
   ]
  },
  {
   "cell_type": "markdown",
   "id": "ce008a85-bf0e-4c18-a985-c9328c043843",
   "metadata": {},
   "source": [
    "### Create a vector of embeddings for the descriptions of each tool (including fake ones)"
   ]
  },
  {
   "cell_type": "code",
   "execution_count": 9,
   "id": "7388507c-6729-4ecf-a346-e5e971dee660",
   "metadata": {},
   "outputs": [
    {
     "name": "stderr",
     "output_type": "stream",
     "text": [
      "/Users/didierlopes/miniconda3/lib/python3.11/site-packages/tqdm/auto.py:21: TqdmWarning: IProgress not found. Please update jupyter and ipywidgets. See https://ipywidgets.readthedocs.io/en/stable/user_install.html\n",
      "  from .autonotebook import tqdm as notebook_tqdm\n",
      "Batches: 100%|███████████████████████████████████████| 4/4 [00:01<00:00,  3.74it/s]\n"
     ]
    }
   ],
   "source": [
    "# Create a list of documents made of function descriptions\n",
    "docs = [\n",
    "    Document(page_content=t.description, metadata={\"index\": i})\n",
    "    for i, t in enumerate(tools)\n",
    "]\n",
    "\n",
    "# These embeddings are much better for semantic search\n",
    "embeddings = SentenceTransformerEmbeddings(model_name=\"all-MiniLM-L6-v2\")\n",
    "\n",
    "# Create VectorStore from documents and embeddings\n",
    "# could also have used Pinecode, Chroma or Weaviate\n",
    "vector_store = FAISS.from_documents(\n",
    "    docs,\n",
    "    embeddings # Could also use: OpenAIEmbeddings()\n",
    ")\n",
    "\n",
    "# We can assume there are not more than 2 simple functions necessary for a single task from an analyst workflow\n",
    "# note that a more complex workflow will be narrowed down into simpler tasks\n",
    "retriever = vector_store.as_retriever(\n",
    "    search_type=\"similarity\",\n",
    ")"
   ]
  },
  {
   "cell_type": "code",
   "execution_count": 10,
   "id": "6d40995b-8ea8-4392-8c58-c5cf78f7bfa0",
   "metadata": {},
   "outputs": [],
   "source": [
    "# Define a function that returns the most relevant tools based on a user prompt\n",
    "def get_tools(smaller_query):\n",
    "\n",
    "    # Retrieve documents relevant to a query\n",
    "    docs = retriever.get_relevant_documents(smaller_query);\n",
    "\n",
    "    # Return the list of tools that are the most relevant\n",
    "    return [tools[d.metadata[\"index\"]] for d in docs]    "
   ]
  },
  {
   "cell_type": "markdown",
   "id": "5e0e8a9c-66ca-45be-a912-7a3bd436f816",
   "metadata": {},
   "source": [
    "### Simplify query in multiple simpler tasks\n",
    "\n",
    "Since a query may contain multiple tasks, the tool retrieval function wasn't leading to the best results. So we simplify to conquer."
   ]
  },
  {
   "cell_type": "code",
   "execution_count": 2,
   "id": "36217ce7-447e-4fc2-b80c-93537bf03344",
   "metadata": {},
   "outputs": [],
   "source": [
    "# Define pydantic model to be output from OpenAI when simplifying a workflow into simpler tasks\n",
    "class Task(BaseModel):\n",
    "    \"\"\"Simple task to be performed\"\"\"\n",
    "    description: str = Field(..., description=\"Description of the task to be achieved\")\n",
    "\n",
    "class TaskList(BaseModel):\n",
    "    \"\"\"List of simple tasks to be performed\"\"\"\n",
    "    tasks: List[Task]"
   ]
  },
  {
   "cell_type": "code",
   "execution_count": 5,
   "id": "12c2f333-aa2e-46d1-888b-2de49b943767",
   "metadata": {},
   "outputs": [
    {
     "name": "stdout",
     "output_type": "stream",
     "text": [
      "The current query can be decomposed into:\n",
      "- Check TSLA peers\n",
      "- Find ticker with highest market cap from TSLA peers\n",
      "- Get most recent rating from an analyst on ticker with highest market cap\n",
      "- Retrieve analyst name and date of rating\n"
     ]
    }
   ],
   "source": [
    "# CANNOT RUN THIS WHILE pydantic is on 1.10 - obb new version needs to be pushed\n",
    "instructor.patch()\n",
    "\n",
    "completion = openai.ChatCompletion.create(\n",
    "    model=\"gpt-3.5-turbo-0613\",\n",
    "    response_model=TaskList,\n",
    "    max_retries=2,\n",
    "    messages=[\n",
    "        {\n",
    "            \"role\": \"system\", \n",
    "             \"content\": \"You are extremely good at reasoning and creating a list of tasks. Add the context behind each task, but keep it simple.\"\n",
    "        },\n",
    "        {\n",
    "            \"role\": \"user\",\n",
    "            \"content\": f\"I want you to decompose this query into a list of tasks to achieve: {query}\"\n",
    "        },\n",
    "    ],\n",
    ")\n",
    "\n",
    "# Show what tasks need to be done for the query selected\n",
    "print(\"The current query can be decomposed into:\")\n",
    "for t in completion.tasks:\n",
    "    print(f\"- {t.description}\")\n",
    "\n",
    "simpler_tasks = [t.description for t in completion.tasks]"
   ]
  },
  {
   "cell_type": "code",
   "execution_count": 11,
   "id": "2fb1b19e-910e-4546-8fe8-16d5288083c1",
   "metadata": {},
   "outputs": [],
   "source": [
    "# I grabbed the result from the above while obb package isn't updated to support more recent pydantic \n",
    "# simpler_tasks = [\n",
    "#     \"Check TSLA peers\",\n",
    "#     \"Find ticker with highest market cap from TSLA peers\",\n",
    "#     \"Get most recent rating from an analyst on ticker with highest market cap\",\n",
    "#     \"Retrieve analyst name and date of rating\",\n",
    "# ]"
   ]
  },
  {
   "cell_type": "markdown",
   "id": "2e3cc0af-382c-4145-9292-ecf648e3b60d",
   "metadata": {},
   "source": [
    "### Grab a function for each of the simpler tasks"
   ]
  },
  {
   "cell_type": "code",
   "execution_count": 12,
   "id": "48701903-0c6b-4549-8896-a5f6e9188924",
   "metadata": {},
   "outputs": [
    {
     "name": "stdout",
     "output_type": "stream",
     "text": [
      "Task: Check TSLA peers\n"
     ]
    },
    {
     "name": "stderr",
     "output_type": "stream",
     "text": [
      "Batches: 100%|███████████████████████████████████████| 1/1 [00:00<00:00, 87.88it/s]\n"
     ]
    },
    {
     "name": "stdout",
     "output_type": "stream",
     "text": [
      "Tool to use: get_peers_associated_with_symbol\n",
      "Tool to use: get_price_target_with_analyst\n",
      "Tool to use: foo-22\n",
      "Tool to use: foo-95\n",
      "\n",
      "\n",
      "Task: Find ticker with highest market cap from TSLA peers\n"
     ]
    },
    {
     "name": "stderr",
     "output_type": "stream",
     "text": [
      "Batches: 100%|███████████████████████████████████████| 1/1 [00:00<00:00, 65.16it/s]\n"
     ]
    },
    {
     "name": "stdout",
     "output_type": "stream",
     "text": [
      "Tool to use: get_generic_info_from_symbol\n",
      "Tool to use: get_price_target_with_analyst\n",
      "Tool to use: get_peers_associated_with_symbol\n",
      "Tool to use: foo-28\n",
      "\n",
      "\n",
      "Task: Get most recent rating from an analyst on ticker with highest market cap\n"
     ]
    },
    {
     "name": "stderr",
     "output_type": "stream",
     "text": [
      "Batches: 100%|███████████████████████████████████████| 1/1 [00:00<00:00, 56.97it/s]\n"
     ]
    },
    {
     "name": "stdout",
     "output_type": "stream",
     "text": [
      "Tool to use: get_price_target_with_analyst\n",
      "Tool to use: get_generic_info_from_symbol\n",
      "Tool to use: foo-15\n",
      "Tool to use: foo-30\n",
      "\n",
      "\n",
      "Task: Retrieve analyst name and date of rating\n"
     ]
    },
    {
     "name": "stderr",
     "output_type": "stream",
     "text": [
      "Batches: 100%|███████████████████████████████████████| 1/1 [00:00<00:00, 75.97it/s]"
     ]
    },
    {
     "name": "stdout",
     "output_type": "stream",
     "text": [
      "Tool to use: get_price_target_with_analyst\n",
      "Tool to use: foo-70\n",
      "Tool to use: foo-95\n",
      "Tool to use: foo-91\n",
      "\n",
      "\n"
     ]
    },
    {
     "name": "stderr",
     "output_type": "stream",
     "text": [
      "\n"
     ]
    }
   ],
   "source": [
    "relevant_tools = list()\n",
    "for t in simpler_tasks:\n",
    "    print(f\"Task: {t}\")\n",
    "    tools_for_task = get_tools(t)\n",
    "    for tool_for_task in tools_for_task:\n",
    "        print(f\"Tool to use: {tool_for_task.name}\")\n",
    "    relevant_tools.append(tools_for_task[0])\n",
    "    print(\"\\n\")"
   ]
  },
  {
   "cell_type": "code",
   "execution_count": 13,
   "id": "174391d4-6e43-47c3-8181-40c3c105c9b3",
   "metadata": {},
   "outputs": [],
   "source": [
    "# Remove duplicates functions\n",
    "relevant_tools = [x for i, x in enumerate(relevant_tools) if i == relevant_tools.index(x)]"
   ]
  },
  {
   "cell_type": "markdown",
   "id": "4c011cae-3ca6-4592-bf20-a6f1d4fe13e1",
   "metadata": {},
   "source": [
    "# OpenBB Agent"
   ]
  },
  {
   "cell_type": "code",
   "execution_count": 14,
   "id": "eaae33b7-9bc5-4427-8073-f0ccc301a4fe",
   "metadata": {},
   "outputs": [
    {
     "name": "stdout",
     "output_type": "stream",
     "text": [
      "\n",
      "\n",
      "\u001b[1m> Entering new AgentExecutor chain...\u001b[0m\n",
      "\u001b[32;1m\u001b[1;3m\n",
      "Invoking: `get_peers_associated_with_symbol` with `{'symbol': 'TSLA'}`\n",
      "\n",
      "\n",
      "\u001b[0m\u001b[36;1m\u001b[1;3m{0: {0: 'symbol', 1: 'peers_list'}, 1: {0: 'TSLA', 1: ['XPEV', 'LI', 'RIVN', 'LCID', 'GM', 'NIO', 'F', 'FSR', 'MULN']}}\u001b[0m\u001b[32;1m\u001b[1;3m\n",
      "Invoking: `get_generic_info_from_symbol` with `{'symbol': 'XPEV'}`\n",
      "\n",
      "\n",
      "\u001b[0m\u001b[33;1m\u001b[1;3m{'day_low': {Timestamp('2023-10-13 20:00:01+0000', tz='UTC'): 15.93}, 'day_high': {Timestamp('2023-10-13 20:00:01+0000', tz='UTC'): 16.6209}, 'symbol': {Timestamp('2023-10-13 20:00:01+0000', tz='UTC'): 'XPEV'}, 'name': {Timestamp('2023-10-13 20:00:01+0000', tz='UTC'): 'XPeng Inc.'}, 'price': {Timestamp('2023-10-13 20:00:01+0000', tz='UTC'): 16.14}, 'changes_percentage': {Timestamp('2023-10-13 20:00:01+0000', tz='UTC'): -0.9816}, 'change': {Timestamp('2023-10-13 20:00:01+0000', tz='UTC'): -0.16}, 'year_high': {Timestamp('2023-10-13 20:00:01+0000', tz='UTC'): 23.62}, 'year_low': {Timestamp('2023-10-13 20:00:01+0000', tz='UTC'): 6.18}, 'market_cap': {Timestamp('2023-10-13 20:00:01+0000', tz='UTC'): 13986132753.0}, 'price_avg50': {Timestamp('2023-10-13 20:00:01+0000', tz='UTC'): 17.367}, 'price_avg200': {Timestamp('2023-10-13 20:00:01+0000', tz='UTC'): 12.36955}, 'volume': {Timestamp('2023-10-13 20:00:01+0000', tz='UTC'): 7409161}, 'avg_volume': {Timestamp('2023-10-13 20:00:01+0000', tz='UTC'): 18751360}, 'exchange': {Timestamp('2023-10-13 20:00:01+0000', tz='UTC'): 'NYSE'}, 'open': {Timestamp('2023-10-13 20:00:01+0000', tz='UTC'): 16.28}, 'previous_close': {Timestamp('2023-10-13 20:00:01+0000', tz='UTC'): 16.3}, 'eps': {Timestamp('2023-10-13 20:00:01+0000', tz='UTC'): -1.66}, 'pe': {Timestamp('2023-10-13 20:00:01+0000', tz='UTC'): -9.72}, 'earnings_announcement': {Timestamp('2023-10-13 20:00:01+0000', tz='UTC'): '2023-11-28T13:30:00.000+0000'}, 'shares_outstanding': {Timestamp('2023-10-13 20:00:01+0000', tz='UTC'): 866550976}}\u001b[0m\u001b[32;1m\u001b[1;3m\n",
      "Invoking: `get_generic_info_from_symbol` with `{'symbol': 'LI'}`\n",
      "\n",
      "\n",
      "\u001b[0m\u001b[33;1m\u001b[1;3m{'day_low': {Timestamp('2023-10-13 20:00:01+0000', tz='UTC'): 33.8}, 'day_high': {Timestamp('2023-10-13 20:00:01+0000', tz='UTC'): 34.5399}, 'symbol': {Timestamp('2023-10-13 20:00:01+0000', tz='UTC'): 'LI'}, 'name': {Timestamp('2023-10-13 20:00:01+0000', tz='UTC'): 'Li Auto Inc.'}, 'price': {Timestamp('2023-10-13 20:00:01+0000', tz='UTC'): 34.3}, 'changes_percentage': {Timestamp('2023-10-13 20:00:01+0000', tz='UTC'): -0.522}, 'change': {Timestamp('2023-10-13 20:00:01+0000', tz='UTC'): -0.18}, 'year_high': {Timestamp('2023-10-13 20:00:01+0000', tz='UTC'): 47.33}, 'year_low': {Timestamp('2023-10-13 20:00:01+0000', tz='UTC'): 12.519}, 'market_cap': {Timestamp('2023-10-13 20:00:01+0000', tz='UTC'): 34375802451.0}, 'price_avg50': {Timestamp('2023-10-13 20:00:01+0000', tz='UTC'): 39.0528}, 'price_avg200': {Timestamp('2023-10-13 20:00:01+0000', tz='UTC'): 30.412075}, 'volume': {Timestamp('2023-10-13 20:00:01+0000', tz='UTC'): 2866040}, 'avg_volume': {Timestamp('2023-10-13 20:00:01+0000', tz='UTC'): 6430496}, 'exchange': {Timestamp('2023-10-13 20:00:01+0000', tz='UTC'): 'NASDAQ'}, 'open': {Timestamp('2023-10-13 20:00:01+0000', tz='UTC'): 34.14}, 'previous_close': {Timestamp('2023-10-13 20:00:01+0000', tz='UTC'): 34.48}, 'eps': {Timestamp('2023-10-13 20:00:01+0000', tz='UTC'): 0.22}, 'pe': {Timestamp('2023-10-13 20:00:01+0000', tz='UTC'): 155.91}, 'earnings_announcement': {Timestamp('2023-10-13 20:00:01+0000', tz='UTC'): '2023-12-07T13:30:00.000+0000'}, 'shares_outstanding': {Timestamp('2023-10-13 20:00:01+0000', tz='UTC'): 1002209984}}\u001b[0m\u001b[32;1m\u001b[1;3m\n",
      "Invoking: `get_generic_info_from_symbol` with `{'symbol': 'RIVN'}`\n",
      "\n",
      "\n",
      "\u001b[0m\u001b[33;1m\u001b[1;3m{'day_low': {Timestamp('2023-10-13 20:00:00+0000', tz='UTC'): 18.78}, 'day_high': {Timestamp('2023-10-13 20:00:00+0000', tz='UTC'): 19.465}, 'symbol': {Timestamp('2023-10-13 20:00:00+0000', tz='UTC'): 'RIVN'}, 'name': {Timestamp('2023-10-13 20:00:00+0000', tz='UTC'): 'Rivian Automotive, Inc.'}, 'price': {Timestamp('2023-10-13 20:00:00+0000', tz='UTC'): 19.3}, 'changes_percentage': {Timestamp('2023-10-13 20:00:00+0000', tz='UTC'): -0.1552}, 'change': {Timestamp('2023-10-13 20:00:00+0000', tz='UTC'): -0.03}, 'year_high': {Timestamp('2023-10-13 20:00:00+0000', tz='UTC'): 36.446}, 'year_low': {Timestamp('2023-10-13 20:00:00+0000', tz='UTC'): 11.68}, 'market_cap': {Timestamp('2023-10-13 20:00:00+0000', tz='UTC'): 18148001837.0}, 'price_avg50': {Timestamp('2023-10-13 20:00:00+0000', tz='UTC'): 22.093}, 'price_avg200': {Timestamp('2023-10-13 20:00:00+0000', tz='UTC'): 18.20065}, 'volume': {Timestamp('2023-10-13 20:00:00+0000', tz='UTC'): 29061296}, 'avg_volume': {Timestamp('2023-10-13 20:00:00+0000', tz='UTC'): 41363014}, 'exchange': {Timestamp('2023-10-13 20:00:00+0000', tz='UTC'): 'NASDAQ'}, 'open': {Timestamp('2023-10-13 20:00:00+0000', tz='UTC'): 19.27}, 'previous_close': {Timestamp('2023-10-13 20:00:00+0000', tz='UTC'): 19.33}, 'eps': {Timestamp('2023-10-13 20:00:00+0000', tz='UTC'): -6.64}, 'pe': {Timestamp('2023-10-13 20:00:00+0000', tz='UTC'): -2.91}, 'earnings_announcement': {Timestamp('2023-10-13 20:00:00+0000', tz='UTC'): '2023-11-07T21:00:00.000+0000'}, 'shares_outstanding': {Timestamp('2023-10-13 20:00:00+0000', tz='UTC'): 940310976}}\u001b[0m\u001b[32;1m\u001b[1;3m\n",
      "Invoking: `get_generic_info_from_symbol` with `{'symbol': 'LCID'}`\n",
      "\n",
      "\n",
      "\u001b[0m\u001b[33;1m\u001b[1;3m{'day_low': {Timestamp('2023-10-13 20:00:01+0000', tz='UTC'): 4.99}, 'day_high': {Timestamp('2023-10-13 20:00:01+0000', tz='UTC'): 5.16}, 'symbol': {Timestamp('2023-10-13 20:00:01+0000', tz='UTC'): 'LCID'}, 'name': {Timestamp('2023-10-13 20:00:01+0000', tz='UTC'): 'Lucid Group, Inc.'}, 'price': {Timestamp('2023-10-13 20:00:01+0000', tz='UTC'): 5.16}, 'changes_percentage': {Timestamp('2023-10-13 20:00:01+0000', tz='UTC'): 1.7751}, 'change': {Timestamp('2023-10-13 20:00:01+0000', tz='UTC'): 0.09}, 'year_high': {Timestamp('2023-10-13 20:00:01+0000', tz='UTC'): 17.81}, 'year_low': {Timestamp('2023-10-13 20:00:01+0000', tz='UTC'): 4.87}, 'market_cap': {Timestamp('2023-10-13 20:00:01+0000', tz='UTC'): 11778474578.0}, 'price_avg50': {Timestamp('2023-10-13 20:00:01+0000', tz='UTC'): 5.9334}, 'price_avg200': {Timestamp('2023-10-13 20:00:01+0000', tz='UTC'): 7.373725}, 'volume': {Timestamp('2023-10-13 20:00:01+0000', tz='UTC'): 18870114}, 'avg_volume': {Timestamp('2023-10-13 20:00:01+0000', tz='UTC'): 33343412}, 'exchange': {Timestamp('2023-10-13 20:00:01+0000', tz='UTC'): 'NASDAQ'}, 'open': {Timestamp('2023-10-13 20:00:01+0000', tz='UTC'): 5.08}, 'previous_close': {Timestamp('2023-10-13 20:00:01+0000', tz='UTC'): 5.07}, 'eps': {Timestamp('2023-10-13 20:00:01+0000', tz='UTC'): -1.63}, 'pe': {Timestamp('2023-10-13 20:00:01+0000', tz='UTC'): -3.17}, 'earnings_announcement': {Timestamp('2023-10-13 20:00:01+0000', tz='UTC'): '2023-11-06T10:59:00.000+0000'}, 'shares_outstanding': {Timestamp('2023-10-13 20:00:01+0000', tz='UTC'): 2282650112}}\u001b[0m\u001b[32;1m\u001b[1;3m\n",
      "Invoking: `get_generic_info_from_symbol` with `{'symbol': 'GM'}`\n",
      "\n",
      "\n",
      "\u001b[0m\u001b[33;1m\u001b[1;3m{'day_low': {Timestamp('2023-10-13 20:00:02+0000', tz='UTC'): 29.54}, 'day_high': {Timestamp('2023-10-13 20:00:02+0000', tz='UTC'): 30.23}, 'symbol': {Timestamp('2023-10-13 20:00:02+0000', tz='UTC'): 'GM'}, 'name': {Timestamp('2023-10-13 20:00:02+0000', tz='UTC'): 'General Motors Company'}, 'price': {Timestamp('2023-10-13 20:00:02+0000', tz='UTC'): 29.66}, 'changes_percentage': {Timestamp('2023-10-13 20:00:02+0000', tz='UTC'): -2.1768}, 'change': {Timestamp('2023-10-13 20:00:02+0000', tz='UTC'): -0.66}, 'year_high': {Timestamp('2023-10-13 20:00:02+0000', tz='UTC'): 43.63}, 'year_low': {Timestamp('2023-10-13 20:00:02+0000', tz='UTC'): 29.54}, 'market_cap': {Timestamp('2023-10-13 20:00:02+0000', tz='UTC'): 40809491075.0}, 'price_avg50': {Timestamp('2023-10-13 20:00:02+0000', tz='UTC'): 33.1802}, 'price_avg200': {Timestamp('2023-10-13 20:00:02+0000', tz='UTC'): 35.69895}, 'volume': {Timestamp('2023-10-13 20:00:02+0000', tz='UTC'): 16646260}, 'avg_volume': {Timestamp('2023-10-13 20:00:02+0000', tz='UTC'): 12986073}, 'exchange': {Timestamp('2023-10-13 20:00:02+0000', tz='UTC'): 'NYSE'}, 'open': {Timestamp('2023-10-13 20:00:02+0000', tz='UTC'): 30.0}, 'previous_close': {Timestamp('2023-10-13 20:00:02+0000', tz='UTC'): 30.32}, 'eps': {Timestamp('2023-10-13 20:00:02+0000', tz='UTC'): 7.16}, 'pe': {Timestamp('2023-10-13 20:00:02+0000', tz='UTC'): 4.14}, 'earnings_announcement': {Timestamp('2023-10-13 20:00:02+0000', tz='UTC'): '2023-10-24T12:30:00.000+0000'}, 'shares_outstanding': {Timestamp('2023-10-13 20:00:02+0000', tz='UTC'): 1375910016}}\u001b[0m\u001b[32;1m\u001b[1;3m\n",
      "Invoking: `get_generic_info_from_symbol` with `{'symbol': 'NIO'}`\n",
      "\n",
      "\n",
      "\u001b[0m\u001b[33;1m\u001b[1;3m{'day_low': {Timestamp('2023-10-13 20:00:02+0000', tz='UTC'): 8.27}, 'day_high': {Timestamp('2023-10-13 20:00:02+0000', tz='UTC'): 8.55}, 'symbol': {Timestamp('2023-10-13 20:00:02+0000', tz='UTC'): 'NIO'}, 'name': {Timestamp('2023-10-13 20:00:02+0000', tz='UTC'): 'NIO Inc.'}, 'price': {Timestamp('2023-10-13 20:00:02+0000', tz='UTC'): 8.47}, 'changes_percentage': {Timestamp('2023-10-13 20:00:02+0000', tz='UTC'): 0.3555}, 'change': {Timestamp('2023-10-13 20:00:02+0000', tz='UTC'): 0.03}, 'year_high': {Timestamp('2023-10-13 20:00:02+0000', tz='UTC'): 16.18}, 'year_low': {Timestamp('2023-10-13 20:00:02+0000', tz='UTC'): 7.0}, 'market_cap': {Timestamp('2023-10-13 20:00:02+0000', tz='UTC'): 15064827107.0}, 'price_avg50': {Timestamp('2023-10-13 20:00:02+0000', tz='UTC'): 10.4762}, 'price_avg200': {Timestamp('2023-10-13 20:00:02+0000', tz='UTC'): 9.8882}, 'volume': {Timestamp('2023-10-13 20:00:02+0000', tz='UTC'): 28132896}, 'avg_volume': {Timestamp('2023-10-13 20:00:02+0000', tz='UTC'): 57368893}, 'exchange': {Timestamp('2023-10-13 20:00:02+0000', tz='UTC'): 'NYSE'}, 'open': {Timestamp('2023-10-13 20:00:02+0000', tz='UTC'): 8.4}, 'previous_close': {Timestamp('2023-10-13 20:00:02+0000', tz='UTC'): 8.44}, 'eps': {Timestamp('2023-10-13 20:00:02+0000', tz='UTC'): -1.69}, 'pe': {Timestamp('2023-10-13 20:00:02+0000', tz='UTC'): -5.01}, 'earnings_announcement': {Timestamp('2023-10-13 20:00:02+0000', tz='UTC'): '2023-11-08T13:30:00.000+0000'}, 'shares_outstanding': {Timestamp('2023-10-13 20:00:02+0000', tz='UTC'): 1778610048}}\u001b[0m\u001b[32;1m\u001b[1;3m\n",
      "Invoking: `get_generic_info_from_symbol` with `{'symbol': 'F'}`\n",
      "\n",
      "\n",
      "\u001b[0m\u001b[33;1m\u001b[1;3m{'day_low': {Timestamp('2023-10-13 20:00:25+0000', tz='UTC'): 11.8}, 'day_high': {Timestamp('2023-10-13 20:00:25+0000', tz='UTC'): 12.0}, 'symbol': {Timestamp('2023-10-13 20:00:25+0000', tz='UTC'): 'F'}, 'name': {Timestamp('2023-10-13 20:00:25+0000', tz='UTC'): 'Ford Motor Company'}, 'price': {Timestamp('2023-10-13 20:00:25+0000', tz='UTC'): 11.81}, 'changes_percentage': {Timestamp('2023-10-13 20:00:25+0000', tz='UTC'): -1.5833}, 'change': {Timestamp('2023-10-13 20:00:25+0000', tz='UTC'): -0.19}, 'year_high': {Timestamp('2023-10-13 20:00:25+0000', tz='UTC'): 15.42}, 'year_low': {Timestamp('2023-10-13 20:00:25+0000', tz='UTC'): 10.9}, 'market_cap': {Timestamp('2023-10-13 20:00:25+0000', tz='UTC'): 46429479511.0}, 'price_avg50': {Timestamp('2023-10-13 20:00:25+0000', tz='UTC'): 12.247}, 'price_avg200': {Timestamp('2023-10-13 20:00:25+0000', tz='UTC'): 12.6638}, 'volume': {Timestamp('2023-10-13 20:00:25+0000', tz='UTC'): 46025541}, 'avg_volume': {Timestamp('2023-10-13 20:00:25+0000', tz='UTC'): 49273489}, 'exchange': {Timestamp('2023-10-13 20:00:25+0000', tz='UTC'): 'NYSE'}, 'open': {Timestamp('2023-10-13 20:00:25+0000', tz='UTC'): 11.97}, 'previous_close': {Timestamp('2023-10-13 20:00:25+0000', tz='UTC'): 12.0}, 'eps': {Timestamp('2023-10-13 20:00:25+0000', tz='UTC'): 1.03}, 'pe': {Timestamp('2023-10-13 20:00:25+0000', tz='UTC'): 11.47}, 'earnings_announcement': {Timestamp('2023-10-13 20:00:25+0000', tz='UTC'): '2023-10-24T20:05:00.000+0000'}, 'shares_outstanding': {Timestamp('2023-10-13 20:00:25+0000', tz='UTC'): 3931369984}}\u001b[0m\u001b[32;1m\u001b[1;3m\n",
      "Invoking: `get_generic_info_from_symbol` with `{'symbol': 'FSR'}`\n",
      "\n",
      "\n",
      "\u001b[0m\u001b[33;1m\u001b[1;3m{'day_low': {Timestamp('2023-10-13 20:00:02+0000', tz='UTC'): 5.9785}, 'day_high': {Timestamp('2023-10-13 20:00:02+0000', tz='UTC'): 6.2586}, 'symbol': {Timestamp('2023-10-13 20:00:02+0000', tz='UTC'): 'FSR'}, 'name': {Timestamp('2023-10-13 20:00:02+0000', tz='UTC'): 'Fisker Inc.'}, 'price': {Timestamp('2023-10-13 20:00:02+0000', tz='UTC'): 6.21}, 'changes_percentage': {Timestamp('2023-10-13 20:00:02+0000', tz='UTC'): 2.6446}, 'change': {Timestamp('2023-10-13 20:00:02+0000', tz='UTC'): 0.16}, 'year_high': {Timestamp('2023-10-13 20:00:02+0000', tz='UTC'): 8.85}, 'year_low': {Timestamp('2023-10-13 20:00:02+0000', tz='UTC'): 4.26}, 'market_cap': {Timestamp('2023-10-13 20:00:02+0000', tz='UTC'): 2131520319.0}, 'price_avg50': {Timestamp('2023-10-13 20:00:02+0000', tz='UTC'): 6.0374}, 'price_avg200': {Timestamp('2023-10-13 20:00:02+0000', tz='UTC'): 6.25755}, 'volume': {Timestamp('2023-10-13 20:00:02+0000', tz='UTC'): 4461176}, 'avg_volume': {Timestamp('2023-10-13 20:00:02+0000', tz='UTC'): 7795623}, 'exchange': {Timestamp('2023-10-13 20:00:02+0000', tz='UTC'): 'NYSE'}, 'open': {Timestamp('2023-10-13 20:00:02+0000', tz='UTC'): 6.06}, 'previous_close': {Timestamp('2023-10-13 20:00:02+0000', tz='UTC'): 6.05}, 'eps': {Timestamp('2023-10-13 20:00:02+0000', tz='UTC'): -1.69}, 'pe': {Timestamp('2023-10-13 20:00:02+0000', tz='UTC'): -3.67}, 'earnings_announcement': {Timestamp('2023-10-13 20:00:02+0000', tz='UTC'): '2023-10-31T10:59:00.000+0000'}, 'shares_outstanding': {Timestamp('2023-10-13 20:00:02+0000', tz='UTC'): 343239987}}\u001b[0m\u001b[32;1m\u001b[1;3m\n",
      "Invoking: `get_generic_info_from_symbol` with `{'symbol': 'MULN'}`\n",
      "\n",
      "\n",
      "\u001b[0m\u001b[33;1m\u001b[1;3m{'day_low': {Timestamp('2023-10-13 20:00:01+0000', tz='UTC'): 0.387}, 'day_high': {Timestamp('2023-10-13 20:00:01+0000', tz='UTC'): 0.4199}, 'symbol': {Timestamp('2023-10-13 20:00:01+0000', tz='UTC'): 'MULN'}, 'name': {Timestamp('2023-10-13 20:00:01+0000', tz='UTC'): 'Mullen Automotive, Inc.'}, 'price': {Timestamp('2023-10-13 20:00:01+0000', tz='UTC'): 0.3925}, 'changes_percentage': {Timestamp('2023-10-13 20:00:01+0000', tz='UTC'): -6.1005}, 'change': {Timestamp('2023-10-13 20:00:01+0000', tz='UTC'): -0.0255}, 'year_high': {Timestamp('2023-10-13 20:00:01+0000', tz='UTC'): 15.25}, 'year_low': {Timestamp('2023-10-13 20:00:01+0000', tz='UTC'): 0.1}, 'market_cap': {Timestamp('2023-10-13 20:00:01+0000', tz='UTC'): 72286329.0}, 'price_avg50': {Timestamp('2023-10-13 20:00:01+0000', tz='UTC'): 0.5208}, 'price_avg200': {Timestamp('2023-10-13 20:00:01+0000', tz='UTC'): 2.7283}, 'volume': {Timestamp('2023-10-13 20:00:01+0000', tz='UTC'): 23200377}, 'avg_volume': {Timestamp('2023-10-13 20:00:01+0000', tz='UTC'): 130156598}, 'exchange': {Timestamp('2023-10-13 20:00:01+0000', tz='UTC'): 'NASDAQ'}, 'open': {Timestamp('2023-10-13 20:00:01+0000', tz='UTC'): 0.4155}, 'previous_close': {Timestamp('2023-10-13 20:00:01+0000', tz='UTC'): 0.418}, 'eps': {Timestamp('2023-10-13 20:00:01+0000', tz='UTC'): -329.51}, 'pe': {Timestamp('2023-10-13 20:00:01+0000', tz='UTC'): 0.0}, 'earnings_announcement': {Timestamp('2023-10-13 20:00:01+0000', tz='UTC'): '2024-01-11T22:15:00.000+0000'}, 'shares_outstanding': {Timestamp('2023-10-13 20:00:01+0000', tz='UTC'): 184168992}}\u001b[0m\u001b[32;1m\u001b[1;3m\n",
      "Invoking: `get_price_target_with_analyst` with `{'symbol': 'F'}`\n",
      "responded: The peers of TSLA are XPEV, LI, RIVN, LCID, GM, NIO, F, FSR, and MULN. Here are their market caps:\n",
      "\n",
      "- XPEV: $13,986,132,753\n",
      "- LI: $34,375,802,451\n",
      "- RIVN: $18,148,001,837\n",
      "- LCID: $11,778,474,578\n",
      "- GM: $40,809,491,075\n",
      "- NIO: $15,064,827,107\n",
      "- F: $46,429,479,511\n",
      "- FSR: $2,131,520,319\n",
      "- MULN: $72,286,329\n",
      "\n",
      "The company with the highest market cap among TSLA's peers is Ford Motor Company (F) with a market cap of $46,429,479,511. Let's get the most recent rating from an analyst for Ford.\n",
      "\n",
      "\u001b[0m\u001b[38;5;200m\u001b[1;3m{'symbol': {0: 'F', 1: 'F', 2: 'F', 3: 'F', 4: 'F'}, 'published_date': {0: Timestamp('2023-07-31 13:21:00+0000', tz='UTC'), 1: Timestamp('2022-12-06 06:44:00+0000', tz='UTC'), 2: Timestamp('2022-11-30 06:58:00+0000', tz='UTC'), 3: Timestamp('2022-10-27 11:28:00+0000', tz='UTC'), 4: Timestamp('2022-10-05 08:17:00+0000', tz='UTC')}, 'news_url': {0: 'https://www.benzinga.com/news/23/07/33469179/fords-4-5-billion-ev-loss-overshadowed-by-q2-revenue-surge-morgan-stanley-sees-potential-shift-in-ev', 1: 'https://www.benzinga.com/trading-ideas/long-ideas/22/12/29970381/ford-tesla-and-other-big-auto-stocks-from-benzingas-most-accurate-analysts', 2: 'https://www.benzinga.com/news/22/11/29902358/citigroup-maintains-neutral-on-ford-motor-raises-price-target-to-14', 3: 'https://www.benzinga.com/analyst-ratings/analyst-color/22/10/29438311/ford-earnings-beat-doesnt-impress-these-analysts-heres-why', 4: 'https://www.benzinga.com/analyst-ratings/upgrades/22/10/29151421/why-ford-stock-is-rising-today'}, 'news_title': {0: \"Ford's $4.5 Billion EV Loss Overshadowed by Q2 Revenue Surge: Morgan Stanley Sees Potential Shift in EV Strategy\", 1: \"Ford, Tesla And Other Big Auto Stocks From Benzinga's Most Accurate Analysts\", 2: 'Citigroup Maintains Neutral on Ford Motor, Raises Price Target to $14', 3: \"Ford Earnings Beat Doesn't Impress These Analysts: Here's Why\", 4: 'Why Ford Stock Is Rising Today'}, 'analyst_name': {0: 'Adam Jonas', 1: 'Adam Jonas', 2: None, 3: 'Mark Delaney', 4: 'Adam Jonas'}, 'analyst_company': {0: 'Morgan Stanley', 1: 'Morgan Stanley', 2: 'Citigroup', 3: 'Goldman Sachs', 4: 'Morgan Stanley'}, 'price_target': {0: 16.0, 1: 32.0, 2: 14.0, 3: 13.0, 4: 14.0}, 'adj_price_target': {0: 16.0, 1: 32.0, 2: 14.0, 3: 13.0, 4: 14.0}, 'price_when_posted': {0: 13.11, 1: 13.38, 2: 13.75, 3: 12.93, 4: 12.36}, 'news_publisher': {0: 'Benzinga', 1: 'Benzinga', 2: 'Benzinga', 3: 'Benzinga', 4: 'Benzinga'}, 'news_base_url': {0: 'benzinga.com', 1: 'benzinga.com', 2: 'benzinga.com', 3: 'benzinga.com', 4: 'benzinga.com'}}\u001b[0m\u001b[32;1m\u001b[1;3mThe most recent rating for Ford Motor Company (F) was done by Adam Jonas from Morgan Stanley on July 31, 2023. The news was published on Benzinga under the title \"Ford's $4.5 Billion EV Loss Overshadowed by Q2 Revenue Surge: Morgan Stanley Sees Potential Shift in EV Strategy\". The price target set by the analyst was $16.\u001b[0m\n",
      "\n",
      "\u001b[1m> Finished chain.\u001b[0m\n"
     ]
    },
    {
     "data": {
      "text/plain": [
       "{'input': '\\n    Check what are TSLA peers. From those, check which one has the highest market cap.\\n    Then, on the ticker that has the highest market cap get the most recent rating from an analyst.\\n    And tell me who was the analyst and what date was it that the rating was done.\\n',\n",
       " 'chat_history': [HumanMessage(content='\\n    Check what are TSLA peers. From those, check which one has the highest market cap.\\n    Then, on the ticker that has the highest market cap get the most recent rating from an analyst.\\n    And tell me who was the analyst and what date was it that the rating was done.\\n'),\n",
       "  AIMessage(content='The most recent rating for Ford Motor Company (F) was done by Adam Jonas from Morgan Stanley on July 31, 2023. The news was published on Benzinga under the title \"Ford\\'s $4.5 Billion EV Loss Overshadowed by Q2 Revenue Surge: Morgan Stanley Sees Potential Shift in EV Strategy\". The price target set by the analyst was $16.')],\n",
       " 'output': 'The most recent rating for Ford Motor Company (F) was done by Adam Jonas from Morgan Stanley on July 31, 2023. The news was published on Benzinga under the title \"Ford\\'s $4.5 Billion EV Loss Overshadowed by Q2 Revenue Surge: Morgan Stanley Sees Potential Shift in EV Strategy\". The price target set by the analyst was $16.'}"
      ]
     },
     "execution_count": 14,
     "metadata": {},
     "output_type": "execute_result"
    }
   ],
   "source": [
    "# Currently relevant_tools are coming from above\n",
    "# I.e. there's 1 tool being retrieved from each simpler task description comparison with\n",
    "# tools available using embeddings\n",
    "\n",
    "# We should also allow users to specify which tools they want the analyst to have access to\n",
    "# when performing a task\n",
    "# relevant_tools = [\n",
    "#     get_peers_associated_with_symbol,\n",
    "#     get_generic_info_from_symbol,\n",
    "#     get_price_target_with_analyst\n",
    "# ]\n",
    "\n",
    "# Format tools to a format accepted by OpenAI\n",
    "functions = [format_tool_to_openai_function(f) for f in relevant_tools]\n",
    "\n",
    "# Bind the functions to an OpenAI model \n",
    "model = ChatOpenAI(\n",
    "    temperature=0,\n",
    "    model=\"gpt-4\", # Use gpt-3.5 for cheaper cost\n",
    ").bind(functions=functions)\n",
    "\n",
    "# Prompt template\n",
    "# - comment chat_history if you don't want the agent to know about the past conversation\n",
    "# - comment agent_scratchpad if you don't want the agent to use previous outputs as inputs\n",
    "prompt = ChatPromptTemplate.from_messages([\n",
    "    (\"system\", \"\"\"\n",
    "        You are an expert financial analyst with a 30+ year successful career in finance.\n",
    "        You must ALWAYS use at least one of the tools provided when answering a question.\n",
    "    \"\"\"),\n",
    "    MessagesPlaceholder(variable_name=\"chat_history\"),\n",
    "    (\"user\", \"{input}\"),\n",
    "    MessagesPlaceholder(variable_name=\"agent_scratchpad\")\n",
    "])\n",
    "\n",
    "# Creates the chain\n",
    "chain = RunnablePassthrough.assign(\n",
    "    agent_scratchpad= lambda x: format_to_openai_functions(x[\"intermediate_steps\"])\n",
    ") | prompt | model | OpenAIFunctionsAgentOutputParser()\n",
    "\n",
    "# Create a memory for the agent to recall what was chatted in the past\n",
    "memory = ConversationBufferMemory(\n",
    "    return_messages=True,\n",
    "    memory_key=\"chat_history\"\n",
    ")\n",
    "\n",
    "# Create an agent that has access to the relevant tools and has memory\n",
    "agent_executor = AgentExecutor(\n",
    "    agent=chain,\n",
    "    tools=relevant_tools,\n",
    "    verbose=True,\n",
    "    memory=memory\n",
    ")\n",
    "\n",
    "agent_executor.invoke({\"input\": query})\n",
    "\n",
    "# Since our agent has a memory and access to past messages\n",
    "# we could also iterate through the list of simpler tasks to be performed\n",
    "# for t in simpler_tasks:\n",
    "#     agent_executor.invoke({\"input\": t})"
   ]
  },
  {
   "cell_type": "code",
   "execution_count": null,
   "id": "7446ae18-36c8-46aa-8281-8c738e7a4b66",
   "metadata": {},
   "outputs": [],
   "source": []
  }
 ],
 "metadata": {
  "kernelspec": {
   "display_name": "Python 3 (ipykernel)",
   "language": "python",
   "name": "python3"
  },
  "language_info": {
   "codemirror_mode": {
    "name": "ipython",
    "version": 3
   },
   "file_extension": ".py",
   "mimetype": "text/x-python",
   "name": "python",
   "nbconvert_exporter": "python",
   "pygments_lexer": "ipython3",
   "version": "3.11.4"
  }
 },
 "nbformat": 4,
 "nbformat_minor": 5
}
